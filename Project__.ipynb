{
  "nbformat": 4,
  "nbformat_minor": 0,
  "metadata": {
    "colab": {
      "name": "Project__.ipynb",
      "provenance": [],
      "collapsed_sections": [
        "TeBx1Eztlwa5"
      ],
      "toc_visible": true,
      "include_colab_link": true
    },
    "kernelspec": {
      "name": "python3",
      "display_name": "Python 3"
    },
    "accelerator": "GPU"
  },
  "cells": [
    {
      "cell_type": "markdown",
      "metadata": {
        "id": "view-in-github",
        "colab_type": "text"
      },
      "source": [
        "<a href=\"https://colab.research.google.com/github/kbpavan/SalaryPredictions/blob/master/Project__.ipynb\" target=\"_parent\"><img src=\"https://colab.research.google.com/assets/colab-badge.svg\" alt=\"Open In Colab\"/></a>"
      ]
    },
    {
      "cell_type": "markdown",
      "metadata": {
        "id": "AnMptWo95NKb",
        "colab_type": "text"
      },
      "source": [
        "Connecting to datasets in Google Colab"
      ]
    },
    {
      "cell_type": "code",
      "metadata": {
        "id": "IF6qm13rbIwB",
        "colab_type": "code",
        "outputId": "14f2b323-65a9-43e9-c33e-7ad81d5b243d",
        "colab": {
          "base_uri": "https://localhost:8080/",
          "height": 122
        }
      },
      "source": [
        "from google.colab import drive\n",
        "drive.mount('/content/drive')"
      ],
      "execution_count": 1,
      "outputs": [
        {
          "output_type": "stream",
          "text": [
            "Go to this URL in a browser: https://accounts.google.com/o/oauth2/auth?client_id=947318989803-6bn6qk8qdgf4n4g3pfee6491hc0brc4i.apps.googleusercontent.com&redirect_uri=urn%3aietf%3awg%3aoauth%3a2.0%3aoob&response_type=code&scope=email%20https%3a%2f%2fwww.googleapis.com%2fauth%2fdocs.test%20https%3a%2f%2fwww.googleapis.com%2fauth%2fdrive%20https%3a%2f%2fwww.googleapis.com%2fauth%2fdrive.photos.readonly%20https%3a%2f%2fwww.googleapis.com%2fauth%2fpeopleapi.readonly\n",
            "\n",
            "Enter your authorization code:\n",
            "··········\n",
            "Mounted at /content/drive\n"
          ],
          "name": "stdout"
        }
      ]
    },
    {
      "cell_type": "markdown",
      "metadata": {
        "id": "KbsfJUBJCzIx",
        "colab_type": "text"
      },
      "source": [
        "**Importing packages**"
      ]
    },
    {
      "cell_type": "code",
      "metadata": {
        "id": "zugNXAI_bi_f",
        "colab_type": "code",
        "outputId": "1076045c-53c6-44e7-b9dc-4e0c57046542",
        "colab": {
          "base_uri": "https://localhost:8080/",
          "height": 80
        }
      },
      "source": [
        "import pandas as pd\n",
        "import numpy as np\n",
        "import matplotlib.pyplot as plt\n",
        "import seaborn as sns\n",
        "import scipy.stats as stats\n",
        "from sklearn.metrics import mean_squared_error\n",
        "from sklearn.model_selection import cross_val_score\n",
        "from sklearn.preprocessing import LabelEncoder\n",
        "from sklearn.preprocessing import OrdinalEncoder\n",
        "from sklearn.ensemble import RandomForestRegressor\n",
        "from sklearn.metrics import mean_squared_error\n",
        "from sklearn.linear_model import LinearRegression\n",
        "from sklearn.pipeline import make_pipeline\n",
        "from sklearn.decomposition import PCA\n",
        "from sklearn.preprocessing import StandardScaler\n",
        "from sklearn import metrics\n",
        "from keras.layers import Dense\n",
        "from keras.models import Sequential\n",
        "from keras.callbacks import EarlyStopping\n",
        "from keras.optimizers import SGD\n",
        "import xgboost as xgb\n",
        "from tqdm import tqdm\n"
      ],
      "execution_count": 2,
      "outputs": [
        {
          "output_type": "stream",
          "text": [
            "Using TensorFlow backend.\n"
          ],
          "name": "stderr"
        },
        {
          "output_type": "display_data",
          "data": {
            "text/html": [
              "<p style=\"color: red;\">\n",
              "The default version of TensorFlow in Colab will soon switch to TensorFlow 2.x.<br>\n",
              "We recommend you <a href=\"https://www.tensorflow.org/guide/migrate\" target=\"_blank\">upgrade</a> now \n",
              "or ensure your notebook will continue to use TensorFlow 1.x via the <code>%tensorflow_version 1.x</code> magic:\n",
              "<a href=\"https://colab.research.google.com/notebooks/tensorflow_version.ipynb\" target=\"_blank\">more info</a>.</p>\n"
            ],
            "text/plain": [
              "<IPython.core.display.HTML object>"
            ]
          },
          "metadata": {
            "tags": []
          }
        }
      ]
    },
    {
      "cell_type": "markdown",
      "metadata": {
        "id": "a5TEHYg0C93_",
        "colab_type": "text"
      },
      "source": [
        "# DISCOVER Data"
      ]
    },
    {
      "cell_type": "code",
      "metadata": {
        "id": "yS4cOR3cdS9X",
        "colab_type": "code",
        "colab": {}
      },
      "source": [
        "link = '/content/drive/My Drive/Colab Notebooks/train_features.csv'\n",
        "link2 = '/content/drive/My Drive/Colab Notebooks/train_salaries.csv'\n",
        "link3 = '/content/drive/My Drive/Colab Notebooks/test_features.csv'\n",
        "train_features = pd.read_csv(link)\n",
        "train_salaries = pd.read_csv(link2)\n",
        "\n"
      ],
      "execution_count": 0,
      "outputs": []
    },
    {
      "cell_type": "markdown",
      "metadata": {
        "id": "vJe-zN1lDf2l",
        "colab_type": "text"
      },
      "source": [
        "**Target salaries DataFrame**"
      ]
    },
    {
      "cell_type": "code",
      "metadata": {
        "id": "o4_NqQXtDoM0",
        "colab_type": "code",
        "outputId": "84ded946-cee1-47d4-d649-d73a5ccd9974",
        "colab": {
          "base_uri": "https://localhost:8080/",
          "height": 197
        }
      },
      "source": [
        "train_salaries.head()"
      ],
      "execution_count": 4,
      "outputs": [
        {
          "output_type": "execute_result",
          "data": {
            "text/html": [
              "<div>\n",
              "<style scoped>\n",
              "    .dataframe tbody tr th:only-of-type {\n",
              "        vertical-align: middle;\n",
              "    }\n",
              "\n",
              "    .dataframe tbody tr th {\n",
              "        vertical-align: top;\n",
              "    }\n",
              "\n",
              "    .dataframe thead th {\n",
              "        text-align: right;\n",
              "    }\n",
              "</style>\n",
              "<table border=\"1\" class=\"dataframe\">\n",
              "  <thead>\n",
              "    <tr style=\"text-align: right;\">\n",
              "      <th></th>\n",
              "      <th>jobId</th>\n",
              "      <th>salary</th>\n",
              "    </tr>\n",
              "  </thead>\n",
              "  <tbody>\n",
              "    <tr>\n",
              "      <th>0</th>\n",
              "      <td>JOB1362684407687</td>\n",
              "      <td>130</td>\n",
              "    </tr>\n",
              "    <tr>\n",
              "      <th>1</th>\n",
              "      <td>JOB1362684407688</td>\n",
              "      <td>101</td>\n",
              "    </tr>\n",
              "    <tr>\n",
              "      <th>2</th>\n",
              "      <td>JOB1362684407689</td>\n",
              "      <td>137</td>\n",
              "    </tr>\n",
              "    <tr>\n",
              "      <th>3</th>\n",
              "      <td>JOB1362684407690</td>\n",
              "      <td>142</td>\n",
              "    </tr>\n",
              "    <tr>\n",
              "      <th>4</th>\n",
              "      <td>JOB1362684407691</td>\n",
              "      <td>163</td>\n",
              "    </tr>\n",
              "  </tbody>\n",
              "</table>\n",
              "</div>"
            ],
            "text/plain": [
              "              jobId  salary\n",
              "0  JOB1362684407687     130\n",
              "1  JOB1362684407688     101\n",
              "2  JOB1362684407689     137\n",
              "3  JOB1362684407690     142\n",
              "4  JOB1362684407691     163"
            ]
          },
          "metadata": {
            "tags": []
          },
          "execution_count": 4
        }
      ]
    },
    {
      "cell_type": "markdown",
      "metadata": {
        "id": "klkPe6TTDqMO",
        "colab_type": "text"
      },
      "source": [
        "**Features DataFrame**"
      ]
    },
    {
      "cell_type": "code",
      "metadata": {
        "id": "T4z2VszODW-o",
        "colab_type": "code",
        "outputId": "b10db0ac-1f8d-4c77-818c-ac3639d5c288",
        "colab": {
          "base_uri": "https://localhost:8080/",
          "height": 197
        }
      },
      "source": [
        "train_features.head()"
      ],
      "execution_count": 5,
      "outputs": [
        {
          "output_type": "execute_result",
          "data": {
            "text/html": [
              "<div>\n",
              "<style scoped>\n",
              "    .dataframe tbody tr th:only-of-type {\n",
              "        vertical-align: middle;\n",
              "    }\n",
              "\n",
              "    .dataframe tbody tr th {\n",
              "        vertical-align: top;\n",
              "    }\n",
              "\n",
              "    .dataframe thead th {\n",
              "        text-align: right;\n",
              "    }\n",
              "</style>\n",
              "<table border=\"1\" class=\"dataframe\">\n",
              "  <thead>\n",
              "    <tr style=\"text-align: right;\">\n",
              "      <th></th>\n",
              "      <th>jobId</th>\n",
              "      <th>companyId</th>\n",
              "      <th>jobType</th>\n",
              "      <th>degree</th>\n",
              "      <th>major</th>\n",
              "      <th>industry</th>\n",
              "      <th>yearsExperience</th>\n",
              "      <th>milesFromMetropolis</th>\n",
              "    </tr>\n",
              "  </thead>\n",
              "  <tbody>\n",
              "    <tr>\n",
              "      <th>0</th>\n",
              "      <td>JOB1362684407687</td>\n",
              "      <td>COMP37</td>\n",
              "      <td>CFO</td>\n",
              "      <td>MASTERS</td>\n",
              "      <td>MATH</td>\n",
              "      <td>HEALTH</td>\n",
              "      <td>10</td>\n",
              "      <td>83</td>\n",
              "    </tr>\n",
              "    <tr>\n",
              "      <th>1</th>\n",
              "      <td>JOB1362684407688</td>\n",
              "      <td>COMP19</td>\n",
              "      <td>CEO</td>\n",
              "      <td>HIGH_SCHOOL</td>\n",
              "      <td>NONE</td>\n",
              "      <td>WEB</td>\n",
              "      <td>3</td>\n",
              "      <td>73</td>\n",
              "    </tr>\n",
              "    <tr>\n",
              "      <th>2</th>\n",
              "      <td>JOB1362684407689</td>\n",
              "      <td>COMP52</td>\n",
              "      <td>VICE_PRESIDENT</td>\n",
              "      <td>DOCTORAL</td>\n",
              "      <td>PHYSICS</td>\n",
              "      <td>HEALTH</td>\n",
              "      <td>10</td>\n",
              "      <td>38</td>\n",
              "    </tr>\n",
              "    <tr>\n",
              "      <th>3</th>\n",
              "      <td>JOB1362684407690</td>\n",
              "      <td>COMP38</td>\n",
              "      <td>MANAGER</td>\n",
              "      <td>DOCTORAL</td>\n",
              "      <td>CHEMISTRY</td>\n",
              "      <td>AUTO</td>\n",
              "      <td>8</td>\n",
              "      <td>17</td>\n",
              "    </tr>\n",
              "    <tr>\n",
              "      <th>4</th>\n",
              "      <td>JOB1362684407691</td>\n",
              "      <td>COMP7</td>\n",
              "      <td>VICE_PRESIDENT</td>\n",
              "      <td>BACHELORS</td>\n",
              "      <td>PHYSICS</td>\n",
              "      <td>FINANCE</td>\n",
              "      <td>8</td>\n",
              "      <td>16</td>\n",
              "    </tr>\n",
              "  </tbody>\n",
              "</table>\n",
              "</div>"
            ],
            "text/plain": [
              "              jobId companyId  ... yearsExperience milesFromMetropolis\n",
              "0  JOB1362684407687    COMP37  ...              10                  83\n",
              "1  JOB1362684407688    COMP19  ...               3                  73\n",
              "2  JOB1362684407689    COMP52  ...              10                  38\n",
              "3  JOB1362684407690    COMP38  ...               8                  17\n",
              "4  JOB1362684407691     COMP7  ...               8                  16\n",
              "\n",
              "[5 rows x 8 columns]"
            ]
          },
          "metadata": {
            "tags": []
          },
          "execution_count": 5
        }
      ]
    },
    {
      "cell_type": "markdown",
      "metadata": {
        "id": "80MxsEHGD3Er",
        "colab_type": "text"
      },
      "source": [
        "**Merging 2 data frames**"
      ]
    },
    {
      "cell_type": "code",
      "metadata": {
        "id": "_k3ihNccffXl",
        "colab_type": "code",
        "colab": {}
      },
      "source": [
        "merged_data = pd.merge(train_features,train_salaries,how='inner', on='jobId')"
      ],
      "execution_count": 0,
      "outputs": []
    },
    {
      "cell_type": "markdown",
      "metadata": {
        "id": "6G7Cw5V9GaZQ",
        "colab_type": "text"
      },
      "source": [
        "**Ckecking for any duplicate data**"
      ]
    },
    {
      "cell_type": "code",
      "metadata": {
        "id": "8rTLOhpvGew_",
        "colab_type": "code",
        "outputId": "7ea82a62-9559-4045-e9fa-c7acf955d299",
        "colab": {
          "base_uri": "https://localhost:8080/",
          "height": 34
        }
      },
      "source": [
        "\n",
        "len(merged_data[merged_data.duplicated()])\n"
      ],
      "execution_count": 7,
      "outputs": [
        {
          "output_type": "execute_result",
          "data": {
            "text/plain": [
              "0"
            ]
          },
          "metadata": {
            "tags": []
          },
          "execution_count": 7
        }
      ]
    },
    {
      "cell_type": "markdown",
      "metadata": {
        "id": "ova91P9tcAY3",
        "colab_type": "text"
      },
      "source": [
        "**Removing jobid coulmn as it is unique for each row**\n"
      ]
    },
    {
      "cell_type": "code",
      "metadata": {
        "id": "Vo2KHVUFcBAM",
        "colab_type": "code",
        "colab": {}
      },
      "source": [
        "merged_data = merged_data.drop('jobId', axis = 1)\n"
      ],
      "execution_count": 0,
      "outputs": []
    },
    {
      "cell_type": "markdown",
      "metadata": {
        "id": "sJV_eJHrTT0R",
        "colab_type": "text"
      },
      "source": [
        "**Examine potential outliers**"
      ]
    },
    {
      "cell_type": "markdown",
      "metadata": {
        "id": "ITK4-zM3EYV_",
        "colab_type": "text"
      },
      "source": [
        "**Checking for any odd values in numeric data**"
      ]
    },
    {
      "cell_type": "code",
      "metadata": {
        "id": "hSrE_bVhEiiF",
        "colab_type": "code",
        "outputId": "9b4088da-50de-4c85-cb4b-3827127d89d6",
        "colab": {
          "base_uri": "https://localhost:8080/",
          "height": 286
        }
      },
      "source": [
        "merged_data.describe()"
      ],
      "execution_count": 9,
      "outputs": [
        {
          "output_type": "execute_result",
          "data": {
            "text/html": [
              "<div>\n",
              "<style scoped>\n",
              "    .dataframe tbody tr th:only-of-type {\n",
              "        vertical-align: middle;\n",
              "    }\n",
              "\n",
              "    .dataframe tbody tr th {\n",
              "        vertical-align: top;\n",
              "    }\n",
              "\n",
              "    .dataframe thead th {\n",
              "        text-align: right;\n",
              "    }\n",
              "</style>\n",
              "<table border=\"1\" class=\"dataframe\">\n",
              "  <thead>\n",
              "    <tr style=\"text-align: right;\">\n",
              "      <th></th>\n",
              "      <th>yearsExperience</th>\n",
              "      <th>milesFromMetropolis</th>\n",
              "      <th>salary</th>\n",
              "    </tr>\n",
              "  </thead>\n",
              "  <tbody>\n",
              "    <tr>\n",
              "      <th>count</th>\n",
              "      <td>1000000.000000</td>\n",
              "      <td>1000000.000000</td>\n",
              "      <td>1000000.000000</td>\n",
              "    </tr>\n",
              "    <tr>\n",
              "      <th>mean</th>\n",
              "      <td>11.992386</td>\n",
              "      <td>49.529260</td>\n",
              "      <td>116.061818</td>\n",
              "    </tr>\n",
              "    <tr>\n",
              "      <th>std</th>\n",
              "      <td>7.212391</td>\n",
              "      <td>28.877733</td>\n",
              "      <td>38.717936</td>\n",
              "    </tr>\n",
              "    <tr>\n",
              "      <th>min</th>\n",
              "      <td>0.000000</td>\n",
              "      <td>0.000000</td>\n",
              "      <td>0.000000</td>\n",
              "    </tr>\n",
              "    <tr>\n",
              "      <th>25%</th>\n",
              "      <td>6.000000</td>\n",
              "      <td>25.000000</td>\n",
              "      <td>88.000000</td>\n",
              "    </tr>\n",
              "    <tr>\n",
              "      <th>50%</th>\n",
              "      <td>12.000000</td>\n",
              "      <td>50.000000</td>\n",
              "      <td>114.000000</td>\n",
              "    </tr>\n",
              "    <tr>\n",
              "      <th>75%</th>\n",
              "      <td>18.000000</td>\n",
              "      <td>75.000000</td>\n",
              "      <td>141.000000</td>\n",
              "    </tr>\n",
              "    <tr>\n",
              "      <th>max</th>\n",
              "      <td>24.000000</td>\n",
              "      <td>99.000000</td>\n",
              "      <td>301.000000</td>\n",
              "    </tr>\n",
              "  </tbody>\n",
              "</table>\n",
              "</div>"
            ],
            "text/plain": [
              "       yearsExperience  milesFromMetropolis          salary\n",
              "count   1000000.000000       1000000.000000  1000000.000000\n",
              "mean         11.992386            49.529260      116.061818\n",
              "std           7.212391            28.877733       38.717936\n",
              "min           0.000000             0.000000        0.000000\n",
              "25%           6.000000            25.000000       88.000000\n",
              "50%          12.000000            50.000000      114.000000\n",
              "75%          18.000000            75.000000      141.000000\n",
              "max          24.000000            99.000000      301.000000"
            ]
          },
          "metadata": {
            "tags": []
          },
          "execution_count": 9
        }
      ]
    },
    {
      "cell_type": "markdown",
      "metadata": {
        "id": "dT9oUoR3Er7S",
        "colab_type": "text"
      },
      "source": [
        "**Looks like salary column is having some salaries as 0. This is odd, have to look deeply into the reasons.**"
      ]
    },
    {
      "cell_type": "code",
      "metadata": {
        "id": "P5pRLqHSFBfU",
        "colab_type": "code",
        "outputId": "1368b4eb-5914-4b7d-e0e4-5029432c8499",
        "colab": {
          "base_uri": "https://localhost:8080/",
          "height": 197
        }
      },
      "source": [
        "Salary_Zero =  merged_data[merged_data.salary== 0]\n",
        "Salary_Zero"
      ],
      "execution_count": 10,
      "outputs": [
        {
          "output_type": "execute_result",
          "data": {
            "text/html": [
              "<div>\n",
              "<style scoped>\n",
              "    .dataframe tbody tr th:only-of-type {\n",
              "        vertical-align: middle;\n",
              "    }\n",
              "\n",
              "    .dataframe tbody tr th {\n",
              "        vertical-align: top;\n",
              "    }\n",
              "\n",
              "    .dataframe thead th {\n",
              "        text-align: right;\n",
              "    }\n",
              "</style>\n",
              "<table border=\"1\" class=\"dataframe\">\n",
              "  <thead>\n",
              "    <tr style=\"text-align: right;\">\n",
              "      <th></th>\n",
              "      <th>companyId</th>\n",
              "      <th>jobType</th>\n",
              "      <th>degree</th>\n",
              "      <th>major</th>\n",
              "      <th>industry</th>\n",
              "      <th>yearsExperience</th>\n",
              "      <th>milesFromMetropolis</th>\n",
              "      <th>salary</th>\n",
              "    </tr>\n",
              "  </thead>\n",
              "  <tbody>\n",
              "    <tr>\n",
              "      <th>30559</th>\n",
              "      <td>COMP44</td>\n",
              "      <td>JUNIOR</td>\n",
              "      <td>DOCTORAL</td>\n",
              "      <td>MATH</td>\n",
              "      <td>AUTO</td>\n",
              "      <td>11</td>\n",
              "      <td>7</td>\n",
              "      <td>0</td>\n",
              "    </tr>\n",
              "    <tr>\n",
              "      <th>495984</th>\n",
              "      <td>COMP34</td>\n",
              "      <td>JUNIOR</td>\n",
              "      <td>NONE</td>\n",
              "      <td>NONE</td>\n",
              "      <td>OIL</td>\n",
              "      <td>1</td>\n",
              "      <td>25</td>\n",
              "      <td>0</td>\n",
              "    </tr>\n",
              "    <tr>\n",
              "      <th>652076</th>\n",
              "      <td>COMP25</td>\n",
              "      <td>CTO</td>\n",
              "      <td>HIGH_SCHOOL</td>\n",
              "      <td>NONE</td>\n",
              "      <td>AUTO</td>\n",
              "      <td>6</td>\n",
              "      <td>60</td>\n",
              "      <td>0</td>\n",
              "    </tr>\n",
              "    <tr>\n",
              "      <th>816129</th>\n",
              "      <td>COMP42</td>\n",
              "      <td>MANAGER</td>\n",
              "      <td>DOCTORAL</td>\n",
              "      <td>ENGINEERING</td>\n",
              "      <td>FINANCE</td>\n",
              "      <td>18</td>\n",
              "      <td>6</td>\n",
              "      <td>0</td>\n",
              "    </tr>\n",
              "    <tr>\n",
              "      <th>828156</th>\n",
              "      <td>COMP40</td>\n",
              "      <td>VICE_PRESIDENT</td>\n",
              "      <td>MASTERS</td>\n",
              "      <td>ENGINEERING</td>\n",
              "      <td>WEB</td>\n",
              "      <td>3</td>\n",
              "      <td>29</td>\n",
              "      <td>0</td>\n",
              "    </tr>\n",
              "  </tbody>\n",
              "</table>\n",
              "</div>"
            ],
            "text/plain": [
              "       companyId         jobType  ... milesFromMetropolis salary\n",
              "30559     COMP44          JUNIOR  ...                   7      0\n",
              "495984    COMP34          JUNIOR  ...                  25      0\n",
              "652076    COMP25             CTO  ...                  60      0\n",
              "816129    COMP42         MANAGER  ...                   6      0\n",
              "828156    COMP40  VICE_PRESIDENT  ...                  29      0\n",
              "\n",
              "[5 rows x 8 columns]"
            ]
          },
          "metadata": {
            "tags": []
          },
          "execution_count": 10
        }
      ]
    },
    {
      "cell_type": "markdown",
      "metadata": {
        "id": "D9YSez5HFHZo",
        "colab_type": "text"
      },
      "source": [
        "**These are the only 5 rows that are having salaries as 0. Looking at their degrees and jobtypes, we can remove this data as bad data.**"
      ]
    },
    {
      "cell_type": "code",
      "metadata": {
        "id": "QXVut_klFnvs",
        "colab_type": "code",
        "colab": {}
      },
      "source": [
        "merged_data = merged_data[merged_data.salary != 0]"
      ],
      "execution_count": 0,
      "outputs": []
    },
    {
      "cell_type": "markdown",
      "metadata": {
        "id": "r0j_3voGXVI6",
        "colab_type": "text"
      },
      "source": [
        "**Visualizing target variable**"
      ]
    },
    {
      "cell_type": "code",
      "metadata": {
        "id": "5AXqYwkBXmRl",
        "colab_type": "code",
        "outputId": "2f3fb431-bed7-4617-e373-03e20ac78cf7",
        "colab": {
          "base_uri": "https://localhost:8080/",
          "height": 540
        }
      },
      "source": [
        "sns.distplot(merged_data.salary, bins=20)\n",
        "plt.show()\n",
        "sns.boxplot(merged_data.salary)\n",
        "plt.show()"
      ],
      "execution_count": 12,
      "outputs": [
        {
          "output_type": "display_data",
          "data": {
            "image/png": "[encoded data removed]",
            "text/plain": [
              "<Figure size 432x288 with 1 Axes>"
            ]
          },
          "metadata": {
            "tags": []
          }
        },
        {
          "output_type": "display_data",
          "data": {
            "image/png": "[encoded data removed]",
            "text/plain": [
              "<Figure size 432x288 with 1 Axes>"
            ]
          },
          "metadata": {
            "tags": []
          }
        }
      ]
    },
    {
      "cell_type": "markdown",
      "metadata": {
        "id": "sXF_rMLrYfdo",
        "colab_type": "text"
      },
      "source": [
        "**From the box plot it looks like there are some outliers in salaries.**"
      ]
    },
    {
      "cell_type": "markdown",
      "metadata": {
        "id": "iY-GDbTJbptd",
        "colab_type": "text"
      },
      "source": [
        "**Removing outliers using upper/lower limts from Inter Quartile range calculation**"
      ]
    },
    {
      "cell_type": "code",
      "metadata": {
        "id": "uqsydvf1YpRE",
        "colab_type": "code",
        "outputId": "9676205f-ebdd-4bc6-be49-6e968035020e",
        "colab": {
          "base_uri": "https://localhost:8080/",
          "height": 34
        }
      },
      "source": [
        "results = merged_data.salary.describe()\n",
        "InterQuartileRange = results['75%'] - results['25%']\n",
        "Upperlimit = results['75%'] +( 1.5 * InterQuartileRange )\n",
        "lowerlimit = results['25%'] - ( 1.5 * InterQuartileRange )\n",
        "print(\"Upperlimit:\",Upperlimit,\"lowerlimit:\", lowerlimit)\n"
      ],
      "execution_count": 13,
      "outputs": [
        {
          "output_type": "stream",
          "text": [
            "Upperlimit: 220.5 lowerlimit: 8.5\n"
          ],
          "name": "stdout"
        }
      ]
    },
    {
      "cell_type": "markdown",
      "metadata": {
        "id": "EvY53MpEckZJ",
        "colab_type": "text"
      },
      "source": [
        "**We will look at the jobs of people having salaries greater than 220.5**"
      ]
    },
    {
      "cell_type": "code",
      "metadata": {
        "id": "Q8v6ZsPIcyGX",
        "colab_type": "code",
        "outputId": "45dd38d2-5209-4f1d-ce9e-a382f290e703",
        "colab": {
          "base_uri": "https://localhost:8080/",
          "height": 153
        }
      },
      "source": [
        "merged_data[merged_data.salary > 220.5]['jobType'].value_counts()"
      ],
      "execution_count": 14,
      "outputs": [
        {
          "output_type": "execute_result",
          "data": {
            "text/plain": [
              "CEO               3227\n",
              "CFO               1496\n",
              "CTO               1488\n",
              "VICE_PRESIDENT     603\n",
              "MANAGER            217\n",
              "SENIOR              66\n",
              "JUNIOR              20\n",
              "Name: jobType, dtype: int64"
            ]
          },
          "metadata": {
            "tags": []
          },
          "execution_count": 14
        }
      ]
    },
    {
      "cell_type": "markdown",
      "metadata": {
        "id": "bNW4xvOWd7Ua",
        "colab_type": "text"
      },
      "source": [
        "**Most of the people are in C-Suite as expected but there are some Junior positions having salaries >220k. We will see which industries have junior positions with 220k + salaries**"
      ]
    },
    {
      "cell_type": "code",
      "metadata": {
        "id": "ifEwscmCeY9c",
        "colab_type": "code",
        "outputId": "2d71525f-d6ae-4bef-f9a8-2af5457dd120",
        "colab": {
          "base_uri": "https://localhost:8080/",
          "height": 85
        }
      },
      "source": [
        "merged_data[(merged_data.salary > 220.5) & (merged_data.jobType == 'JUNIOR')].industry.value_counts()"
      ],
      "execution_count": 15,
      "outputs": [
        {
          "output_type": "execute_result",
          "data": {
            "text/plain": [
              "OIL        11\n",
              "FINANCE     8\n",
              "WEB         1\n",
              "Name: industry, dtype: int64"
            ]
          },
          "metadata": {
            "tags": []
          },
          "execution_count": 15
        }
      ]
    },
    {
      "cell_type": "markdown",
      "metadata": {
        "id": "Z3F2kaCdee3U",
        "colab_type": "text"
      },
      "source": [
        "**Oil and finance industries are known for higher salaries so this data looks legitimate.**"
      ]
    },
    {
      "cell_type": "markdown",
      "metadata": {
        "id": "1rpoNN35eq_E",
        "colab_type": "text"
      },
      "source": [
        "**Now we will look at People having less than 8k salaries**"
      ]
    },
    {
      "cell_type": "code",
      "metadata": {
        "id": "4b6Y9jESeyK1",
        "colab_type": "code",
        "outputId": "f3a04cfe-de11-456e-dea0-6bd68593d914",
        "colab": {
          "base_uri": "https://localhost:8080/",
          "height": 34
        }
      },
      "source": [
        "merged_data[merged_data.salary < 8.5].jobType.value_counts()"
      ],
      "execution_count": 16,
      "outputs": [
        {
          "output_type": "execute_result",
          "data": {
            "text/plain": [
              "Series([], Name: jobType, dtype: int64)"
            ]
          },
          "metadata": {
            "tags": []
          },
          "execution_count": 16
        }
      ]
    },
    {
      "cell_type": "markdown",
      "metadata": {
        "id": "27FUTF6KfWFG",
        "colab_type": "text"
      },
      "source": [
        "**These doesn't look true. So we remove these records from data**"
      ]
    },
    {
      "cell_type": "code",
      "metadata": {
        "id": "HEUT57IOfu_P",
        "colab_type": "code",
        "colab": {}
      },
      "source": [
        "merged_data = merged_data[merged_data.salary > 8.5]\n"
      ],
      "execution_count": 0,
      "outputs": []
    },
    {
      "cell_type": "markdown",
      "metadata": {
        "id": "iQbx9VGAfrIE",
        "colab_type": "text"
      },
      "source": [
        "**Now we will look at Categorical data**"
      ]
    },
    {
      "cell_type": "code",
      "metadata": {
        "id": "KWgSw8vkfx9R",
        "colab_type": "code",
        "outputId": "43cd7950-1929-4345-af1f-f94057b5492d",
        "colab": {
          "base_uri": "https://localhost:8080/",
          "height": 167
        }
      },
      "source": [
        "merged_data.describe(include = ['O'])"
      ],
      "execution_count": 18,
      "outputs": [
        {
          "output_type": "execute_result",
          "data": {
            "text/html": [
              "<div>\n",
              "<style scoped>\n",
              "    .dataframe tbody tr th:only-of-type {\n",
              "        vertical-align: middle;\n",
              "    }\n",
              "\n",
              "    .dataframe tbody tr th {\n",
              "        vertical-align: top;\n",
              "    }\n",
              "\n",
              "    .dataframe thead th {\n",
              "        text-align: right;\n",
              "    }\n",
              "</style>\n",
              "<table border=\"1\" class=\"dataframe\">\n",
              "  <thead>\n",
              "    <tr style=\"text-align: right;\">\n",
              "      <th></th>\n",
              "      <th>companyId</th>\n",
              "      <th>jobType</th>\n",
              "      <th>degree</th>\n",
              "      <th>major</th>\n",
              "      <th>industry</th>\n",
              "    </tr>\n",
              "  </thead>\n",
              "  <tbody>\n",
              "    <tr>\n",
              "      <th>count</th>\n",
              "      <td>999995</td>\n",
              "      <td>999995</td>\n",
              "      <td>999995</td>\n",
              "      <td>999995</td>\n",
              "      <td>999995</td>\n",
              "    </tr>\n",
              "    <tr>\n",
              "      <th>unique</th>\n",
              "      <td>63</td>\n",
              "      <td>8</td>\n",
              "      <td>5</td>\n",
              "      <td>9</td>\n",
              "      <td>7</td>\n",
              "    </tr>\n",
              "    <tr>\n",
              "      <th>top</th>\n",
              "      <td>COMP39</td>\n",
              "      <td>SENIOR</td>\n",
              "      <td>HIGH_SCHOOL</td>\n",
              "      <td>NONE</td>\n",
              "      <td>WEB</td>\n",
              "    </tr>\n",
              "    <tr>\n",
              "      <th>freq</th>\n",
              "      <td>16193</td>\n",
              "      <td>125886</td>\n",
              "      <td>236975</td>\n",
              "      <td>532353</td>\n",
              "      <td>143205</td>\n",
              "    </tr>\n",
              "  </tbody>\n",
              "</table>\n",
              "</div>"
            ],
            "text/plain": [
              "       companyId jobType       degree   major industry\n",
              "count     999995  999995       999995  999995   999995\n",
              "unique        63       8            5       9        7\n",
              "top       COMP39  SENIOR  HIGH_SCHOOL    NONE      WEB\n",
              "freq       16193  125886       236975  532353   143205"
            ]
          },
          "metadata": {
            "tags": []
          },
          "execution_count": 18
        }
      ]
    },
    {
      "cell_type": "markdown",
      "metadata": {
        "id": "gbsprrcEEGoA",
        "colab_type": "text"
      },
      "source": [
        "**We will look at jobs with people having no degrees**"
      ]
    },
    {
      "cell_type": "code",
      "metadata": {
        "id": "QsM50EMDgA1s",
        "colab_type": "code",
        "outputId": "fe72b432-0cb9-4d5d-f51f-bac2f0d67ae8",
        "colab": {
          "base_uri": "https://localhost:8080/",
          "height": 170
        }
      },
      "source": [
        "merged_data[merged_data.degree == 'NONE'].jobType.value_counts()"
      ],
      "execution_count": 19,
      "outputs": [
        {
          "output_type": "execute_result",
          "data": {
            "text/plain": [
              "JANITOR           62544\n",
              "SENIOR            25117\n",
              "MANAGER           25092\n",
              "CEO               24898\n",
              "CTO               24882\n",
              "VICE_PRESIDENT    24825\n",
              "JUNIOR            24781\n",
              "CFO               24714\n",
              "Name: jobType, dtype: int64"
            ]
          },
          "metadata": {
            "tags": []
          },
          "execution_count": 19
        }
      ]
    },
    {
      "cell_type": "markdown",
      "metadata": {
        "id": "QYLHicw1gkmX",
        "colab_type": "text"
      },
      "source": [
        "**It is strange that C-level positions having Degree as None. We can't assume them as not having degree or we can't remove records having major as none because >50% values are missing. Let us leave it as None and continue our analysis.**"
      ]
    },
    {
      "cell_type": "markdown",
      "metadata": {
        "id": "D9homYsrg_fc",
        "colab_type": "text"
      },
      "source": [
        "\n",
        "\n",
        "*   **A function to automate building several plots**\n",
        "*   **If the predictor is a numeric type, distribution and correlation of predictor with target variable(salaries) is plotted**\n",
        "*   **If the predictor is categorical type, box plots of salaries over different levels of that categorical and their frequency counts are plotted**"
      ]
    },
    {
      "cell_type": "code",
      "metadata": {
        "id": "C0Dnt2T7hNnq",
        "colab_type": "code",
        "colab": {}
      },
      "source": [
        "def  plots(df, column):\n",
        "    if df[column].dtype.name == 'int64':\n",
        "        sns.jointplot(column,'salary', data = df, kind= 'reg',joint_kws = {'scatter_kws':dict(alpha=0.2)} ).annotate(stats.pearsonr)\n",
        "        plt.show()\n",
        "    else:\n",
        "        \n",
        "        plt.figure(figsize=(7, 6))\n",
        "        sns.boxplot(column, 'salary', data = df)\n",
        "        plt.show()\n",
        "        \n",
        "        plt.figure(figsize=(7, 6))\n",
        "        value_counts = df[column].value_counts()\n",
        "        no = np.arange(len(value_counts))\n",
        "        plt.bar( no, value_counts)\n",
        "        plt.xlabel(column, fontsize=10)\n",
        "        plt.ylabel('value_counts', fontsize=10)\n",
        "        plt.xticks(no, value_counts.index , fontsize=10, rotation=30)\n",
        "        plt.title('Frequency')\n",
        "        plt.show()"
      ],
      "execution_count": 0,
      "outputs": []
    },
    {
      "cell_type": "markdown",
      "metadata": {
        "id": "V4hro3RNGZtj",
        "colab_type": "text"
      },
      "source": [
        "**Calling the function on different variables**"
      ]
    },
    {
      "cell_type": "code",
      "metadata": {
        "id": "GJ2ak3hKha-O",
        "colab_type": "code",
        "outputId": "ac8c9fae-5dab-4f1d-f5a6-5013fb628bd2",
        "colab": {
          "base_uri": "https://localhost:8080/",
          "height": 803
        }
      },
      "source": [
        "\n",
        "plots(merged_data,'industry')"
      ],
      "execution_count": 21,
      "outputs": [
        {
          "output_type": "display_data",
          "data": {
            "image/png": "[encoded data removed]",
            "text/plain": [
              "<Figure size 504x432 with 1 Axes>"
            ]
          },
          "metadata": {
            "tags": []
          }
        },
        {
          "output_type": "display_data",
          "data": {
            "image/png": "[encoded data removed]",
            "text/plain": [
              "<Figure size 504x432 with 1 Axes>"
            ]
          },
          "metadata": {
            "tags": []
          }
        }
      ]
    },
    {
      "cell_type": "markdown",
      "metadata": {
        "id": "1x_l1pnVG7lE",
        "colab_type": "text"
      },
      "source": [
        "**From the above plot we can see that OIL and Finance Industries are having highest salaries**"
      ]
    },
    {
      "cell_type": "code",
      "metadata": {
        "id": "dXpjKmabh9Hv",
        "colab_type": "code",
        "outputId": "e28f58c5-7d11-4787-b737-2977ec48caa8",
        "colab": {
          "base_uri": "https://localhost:8080/",
          "height": 811
        }
      },
      "source": [
        "plots(merged_data,'degree')"
      ],
      "execution_count": 22,
      "outputs": [
        {
          "output_type": "display_data",
          "data": {
            "image/png": "[encoded data removed]",
            "text/plain": [
              "<Figure size 504x432 with 1 Axes>"
            ]
          },
          "metadata": {
            "tags": []
          }
        },
        {
          "output_type": "display_data",
          "data": {
            "image/png": "[encoded data removed]",
            "text/plain": [
              "<Figure size 504x432 with 1 Axes>"
            ]
          },
          "metadata": {
            "tags": []
          }
        }
      ]
    },
    {
      "cell_type": "markdown",
      "metadata": {
        "id": "pk6p24I2Hj12",
        "colab_type": "text"
      },
      "source": [
        "**From the above plot we can see that DOCTORAL degrees are having highest salaries and surprisingly not much difference in salaries for Bachelors and masters.There are more people with High school degree.**"
      ]
    },
    {
      "cell_type": "code",
      "metadata": {
        "id": "vsvn5_9Rh_04",
        "colab_type": "code",
        "outputId": "322b2ec3-bed3-4538-bbe6-06c54aaa1901",
        "colab": {
          "base_uri": "https://localhost:8080/",
          "height": 808
        }
      },
      "source": [
        "plots(merged_data,'major')"
      ],
      "execution_count": 23,
      "outputs": [
        {
          "output_type": "display_data",
          "data": {
            "image/png": "[encoded data removed]",
            "text/plain": [
              "<Figure size 504x432 with 1 Axes>"
            ]
          },
          "metadata": {
            "tags": []
          }
        },
        {
          "output_type": "display_data",
          "data": {
            "image/png": "[encoded data removed]",
            "text/plain": [
              "<Figure size 504x432 with 1 Axes>"
            ]
          },
          "metadata": {
            "tags": []
          }
        }
      ]
    },
    {
      "cell_type": "markdown",
      "metadata": {
        "id": "8nMdGTgRIQOy",
        "colab_type": "text"
      },
      "source": [
        "**Engineering and Business majors are having highest salaries**"
      ]
    },
    {
      "cell_type": "code",
      "metadata": {
        "id": "IZIKTrH2iDiU",
        "colab_type": "code",
        "outputId": "c93db3da-e60f-460d-8d91-ea74617da1d4",
        "colab": {
          "base_uri": "https://localhost:8080/",
          "height": 817
        }
      },
      "source": [
        "\n",
        "plots(merged_data,'jobType')"
      ],
      "execution_count": 24,
      "outputs": [
        {
          "output_type": "display_data",
          "data": {
            "image/png": "[encoded data removed]",
            "text/plain": [
              "<Figure size 504x432 with 1 Axes>"
            ]
          },
          "metadata": {
            "tags": []
          }
        },
        {
          "output_type": "display_data",
          "data": {
            "image/png": "[encoded data removed]",
            "text/plain": [
              "<Figure size 504x432 with 1 Axes>"
            ]
          },
          "metadata": {
            "tags": []
          }
        }
      ]
    },
    {
      "cell_type": "markdown",
      "metadata": {
        "id": "WkDDcs7tIgZ4",
        "colab_type": "text"
      },
      "source": [
        "**As expected C levels are having highest salaries**"
      ]
    },
    {
      "cell_type": "code",
      "metadata": {
        "id": "p4YbmhZfiQyH",
        "colab_type": "code",
        "outputId": "9e29c37c-8bf1-4e32-9cbf-52d425612de7",
        "colab": {
          "base_uri": "https://localhost:8080/",
          "height": 474
        }
      },
      "source": [
        "plots(merged_data,'yearsExperience')"
      ],
      "execution_count": 25,
      "outputs": [
        {
          "output_type": "stream",
          "text": [
            "/usr/local/lib/python3.6/dist-packages/seaborn/axisgrid.py:1848: UserWarning: JointGrid annotation is deprecated and will be removed in a future release.\n",
            "  warnings.warn(UserWarning(msg))\n"
          ],
          "name": "stderr"
        },
        {
          "output_type": "display_data",
          "data": {
            "image/png": "[encoded data removed]",
            "text/plain": [
              "<Figure size 432x432 with 3 Axes>"
            ]
          },
          "metadata": {
            "tags": []
          }
        }
      ]
    },
    {
      "cell_type": "markdown",
      "metadata": {
        "id": "KcZQ7xbkjj1f",
        "colab_type": "text"
      },
      "source": [
        "**It looks like salaries of people increases with years of experience but also there is wide range for each experience level**\n",
        "\n",
        "**There are also some people with 0 experience earning very high salaries. There is 0.38 pearson correlation between salary and Years experience**"
      ]
    },
    {
      "cell_type": "code",
      "metadata": {
        "id": "r44aXa6piUlj",
        "colab_type": "code",
        "outputId": "fdc31735-4405-4054-c0c8-36cdaf7f9d30",
        "colab": {
          "base_uri": "https://localhost:8080/",
          "height": 474
        }
      },
      "source": [
        "plots(merged_data,'milesFromMetropolis')"
      ],
      "execution_count": 26,
      "outputs": [
        {
          "output_type": "stream",
          "text": [
            "/usr/local/lib/python3.6/dist-packages/seaborn/axisgrid.py:1848: UserWarning: JointGrid annotation is deprecated and will be removed in a future release.\n",
            "  warnings.warn(UserWarning(msg))\n"
          ],
          "name": "stderr"
        },
        {
          "output_type": "display_data",
          "data": {
            "image/png": "[encoded data removed]",
            "text/plain": [
              "<Figure size 432x432 with 3 Axes>"
            ]
          },
          "metadata": {
            "tags": []
          }
        }
      ]
    },
    {
      "cell_type": "markdown",
      "metadata": {
        "id": "7LlatrXYkzNm",
        "colab_type": "text"
      },
      "source": [
        "**There is a negative correlation of -0.3. we can see from the above figure that, as miles from metropolis area increases , salary decreases. But there is also a wide range for every level.**"
      ]
    },
    {
      "cell_type": "markdown",
      "metadata": {
        "id": "Gbi8NbwCxhrN",
        "colab_type": "text"
      },
      "source": [
        "**We have to Encode Categorical data for some of our models to work**"
      ]
    },
    {
      "cell_type": "markdown",
      "metadata": {
        "id": "Oa7Hfl9Ixu_N",
        "colab_type": "text"
      },
      "source": [
        "**Ordinal encoding for ordinal data**"
      ]
    },
    {
      "cell_type": "code",
      "metadata": {
        "id": "GwWfkwSFx0cx",
        "colab_type": "code",
        "colab": {}
      },
      "source": [
        "OE  = OrdinalEncoder(categories= [['JANITOR','JUNIOR','SENIOR','MANAGER','VICE_PRESIDENT','CFO','CTO','CEO']])\n",
        "merged_data['jobType'] = OE.fit_transform(merged_data[['jobType']])\n",
        "\n",
        "OE2  = OrdinalEncoder(categories= [[\"HIGH_SCHOOL\", \"NONE\", \"BACHELORS\", \"MASTERS\",\"DOCTORAL\"]])\n",
        "merged_data['degree'] = OE2.fit_transform(merged_data[['degree']])\n",
        "\n",
        "\n",
        "\n"
      ],
      "execution_count": 0,
      "outputs": []
    },
    {
      "cell_type": "markdown",
      "metadata": {
        "id": "ySF7SMfIyF0w",
        "colab_type": "text"
      },
      "source": [
        "**Lable encoding for nominal data**"
      ]
    },
    {
      "cell_type": "code",
      "metadata": {
        "id": "YeTgpMekyMqU",
        "colab_type": "code",
        "colab": {}
      },
      "source": [
        "def LableEncode(columns,df):\n",
        "    le = LabelEncoder()\n",
        "    for col in columns:\n",
        "        df[col] = le.fit_transform(df[col])\n",
        "columns = ['companyId','major','industry']\n",
        "\n",
        "LableEncode(columns,merged_data)\n",
        "\n"
      ],
      "execution_count": 0,
      "outputs": []
    },
    {
      "cell_type": "code",
      "metadata": {
        "id": "b8VnAW9vuyla",
        "colab_type": "code",
        "outputId": "d9b7c1b7-ece8-4253-d739-191c9962a72f",
        "colab": {
          "base_uri": "https://localhost:8080/",
          "height": 197
        }
      },
      "source": [
        "merged_data.head()"
      ],
      "execution_count": 29,
      "outputs": [
        {
          "output_type": "execute_result",
          "data": {
            "text/html": [
              "<div>\n",
              "<style scoped>\n",
              "    .dataframe tbody tr th:only-of-type {\n",
              "        vertical-align: middle;\n",
              "    }\n",
              "\n",
              "    .dataframe tbody tr th {\n",
              "        vertical-align: top;\n",
              "    }\n",
              "\n",
              "    .dataframe thead th {\n",
              "        text-align: right;\n",
              "    }\n",
              "</style>\n",
              "<table border=\"1\" class=\"dataframe\">\n",
              "  <thead>\n",
              "    <tr style=\"text-align: right;\">\n",
              "      <th></th>\n",
              "      <th>companyId</th>\n",
              "      <th>jobType</th>\n",
              "      <th>degree</th>\n",
              "      <th>major</th>\n",
              "      <th>industry</th>\n",
              "      <th>yearsExperience</th>\n",
              "      <th>milesFromMetropolis</th>\n",
              "      <th>salary</th>\n",
              "    </tr>\n",
              "  </thead>\n",
              "  <tbody>\n",
              "    <tr>\n",
              "      <th>0</th>\n",
              "      <td>31</td>\n",
              "      <td>5.0</td>\n",
              "      <td>3.0</td>\n",
              "      <td>6</td>\n",
              "      <td>3</td>\n",
              "      <td>10</td>\n",
              "      <td>83</td>\n",
              "      <td>130</td>\n",
              "    </tr>\n",
              "    <tr>\n",
              "      <th>1</th>\n",
              "      <td>11</td>\n",
              "      <td>7.0</td>\n",
              "      <td>0.0</td>\n",
              "      <td>7</td>\n",
              "      <td>6</td>\n",
              "      <td>3</td>\n",
              "      <td>73</td>\n",
              "      <td>101</td>\n",
              "    </tr>\n",
              "    <tr>\n",
              "      <th>2</th>\n",
              "      <td>48</td>\n",
              "      <td>4.0</td>\n",
              "      <td>4.0</td>\n",
              "      <td>8</td>\n",
              "      <td>3</td>\n",
              "      <td>10</td>\n",
              "      <td>38</td>\n",
              "      <td>137</td>\n",
              "    </tr>\n",
              "    <tr>\n",
              "      <th>3</th>\n",
              "      <td>32</td>\n",
              "      <td>3.0</td>\n",
              "      <td>4.0</td>\n",
              "      <td>2</td>\n",
              "      <td>0</td>\n",
              "      <td>8</td>\n",
              "      <td>17</td>\n",
              "      <td>142</td>\n",
              "    </tr>\n",
              "    <tr>\n",
              "      <th>4</th>\n",
              "      <td>60</td>\n",
              "      <td>4.0</td>\n",
              "      <td>2.0</td>\n",
              "      <td>8</td>\n",
              "      <td>2</td>\n",
              "      <td>8</td>\n",
              "      <td>16</td>\n",
              "      <td>163</td>\n",
              "    </tr>\n",
              "  </tbody>\n",
              "</table>\n",
              "</div>"
            ],
            "text/plain": [
              "   companyId  jobType  degree  ...  yearsExperience  milesFromMetropolis  salary\n",
              "0         31      5.0     3.0  ...               10                   83     130\n",
              "1         11      7.0     0.0  ...                3                   73     101\n",
              "2         48      4.0     4.0  ...               10                   38     137\n",
              "3         32      3.0     4.0  ...                8                   17     142\n",
              "4         60      4.0     2.0  ...                8                   16     163\n",
              "\n",
              "[5 rows x 8 columns]"
            ]
          },
          "metadata": {
            "tags": []
          },
          "execution_count": 29
        }
      ]
    },
    {
      "cell_type": "markdown",
      "metadata": {
        "id": "LEvjsH7K4qEP",
        "colab_type": "text"
      },
      "source": [
        "# Feature Engineering"
      ]
    },
    {
      "cell_type": "markdown",
      "metadata": {
        "id": "p11pw0cyySgO",
        "colab_type": "text"
      },
      "source": [
        "**I want to create a function to create group statistics variables for our data to gain more signal from data.\n",
        "We groupby our data for all categorical variables and get salary statistics for that group as new variables**"
      ]
    },
    {
      "cell_type": "code",
      "metadata": {
        "id": "QAzUXLuzy2t0",
        "colab_type": "code",
        "colab": {}
      },
      "source": [
        "#Columns to consider for groupby\n",
        "col = ['companyId', 'jobType', 'degree', 'major', 'industry']\n",
        "\n",
        "#Function to create group statistics dataframe \n",
        "def group_statistics(df, col, target = 'salary'):\n",
        "     groups = df.groupby(col)\n",
        "     group_stats = pd.DataFrame({'group_mean': groups[target].mean()})\n",
        "     group_stats['group_max'] = groups[target].max()\n",
        "     group_stats['group_min'] = groups[target].min()\n",
        "     group_stats['group_median'] = groups[target].median()\n",
        "     group_stats.reset_index(inplace=True)\n",
        "     return group_stats\n",
        "group_stats = group_statistics(merged_data,col,'salary') "
      ],
      "execution_count": 0,
      "outputs": []
    },
    {
      "cell_type": "markdown",
      "metadata": {
        "id": "jWs0Luc7zD4p",
        "colab_type": "text"
      },
      "source": [
        "**Merge 2 data frames by using left join and joining on categorical columns**"
      ]
    },
    {
      "cell_type": "code",
      "metadata": {
        "id": "svs6Cziny7Xa",
        "colab_type": "code",
        "outputId": "146ad691-009e-42e6-f42d-17a788e928c0",
        "colab": {
          "base_uri": "https://localhost:8080/",
          "height": 197
        }
      },
      "source": [
        "merged_data = pd.merge(merged_data, group_stats, on = col, how='left')\n",
        "merged_data.head()"
      ],
      "execution_count": 31,
      "outputs": [
        {
          "output_type": "execute_result",
          "data": {
            "text/html": [
              "<div>\n",
              "<style scoped>\n",
              "    .dataframe tbody tr th:only-of-type {\n",
              "        vertical-align: middle;\n",
              "    }\n",
              "\n",
              "    .dataframe tbody tr th {\n",
              "        vertical-align: top;\n",
              "    }\n",
              "\n",
              "    .dataframe thead th {\n",
              "        text-align: right;\n",
              "    }\n",
              "</style>\n",
              "<table border=\"1\" class=\"dataframe\">\n",
              "  <thead>\n",
              "    <tr style=\"text-align: right;\">\n",
              "      <th></th>\n",
              "      <th>companyId</th>\n",
              "      <th>jobType</th>\n",
              "      <th>degree</th>\n",
              "      <th>major</th>\n",
              "      <th>industry</th>\n",
              "      <th>yearsExperience</th>\n",
              "      <th>milesFromMetropolis</th>\n",
              "      <th>salary</th>\n",
              "      <th>group_mean</th>\n",
              "      <th>group_max</th>\n",
              "      <th>group_min</th>\n",
              "      <th>group_median</th>\n",
              "    </tr>\n",
              "  </thead>\n",
              "  <tbody>\n",
              "    <tr>\n",
              "      <th>0</th>\n",
              "      <td>31</td>\n",
              "      <td>5.0</td>\n",
              "      <td>3.0</td>\n",
              "      <td>6</td>\n",
              "      <td>3</td>\n",
              "      <td>10</td>\n",
              "      <td>83</td>\n",
              "      <td>130</td>\n",
              "      <td>130.875000</td>\n",
              "      <td>150</td>\n",
              "      <td>98</td>\n",
              "      <td>136.0</td>\n",
              "    </tr>\n",
              "    <tr>\n",
              "      <th>1</th>\n",
              "      <td>11</td>\n",
              "      <td>7.0</td>\n",
              "      <td>0.0</td>\n",
              "      <td>7</td>\n",
              "      <td>6</td>\n",
              "      <td>3</td>\n",
              "      <td>73</td>\n",
              "      <td>101</td>\n",
              "      <td>138.031250</td>\n",
              "      <td>204</td>\n",
              "      <td>90</td>\n",
              "      <td>132.0</td>\n",
              "    </tr>\n",
              "    <tr>\n",
              "      <th>2</th>\n",
              "      <td>48</td>\n",
              "      <td>4.0</td>\n",
              "      <td>4.0</td>\n",
              "      <td>8</td>\n",
              "      <td>3</td>\n",
              "      <td>10</td>\n",
              "      <td>38</td>\n",
              "      <td>137</td>\n",
              "      <td>142.000000</td>\n",
              "      <td>173</td>\n",
              "      <td>116</td>\n",
              "      <td>137.0</td>\n",
              "    </tr>\n",
              "    <tr>\n",
              "      <th>3</th>\n",
              "      <td>32</td>\n",
              "      <td>3.0</td>\n",
              "      <td>4.0</td>\n",
              "      <td>2</td>\n",
              "      <td>0</td>\n",
              "      <td>8</td>\n",
              "      <td>17</td>\n",
              "      <td>142</td>\n",
              "      <td>129.000000</td>\n",
              "      <td>169</td>\n",
              "      <td>77</td>\n",
              "      <td>131.0</td>\n",
              "    </tr>\n",
              "    <tr>\n",
              "      <th>4</th>\n",
              "      <td>60</td>\n",
              "      <td>4.0</td>\n",
              "      <td>2.0</td>\n",
              "      <td>8</td>\n",
              "      <td>2</td>\n",
              "      <td>8</td>\n",
              "      <td>16</td>\n",
              "      <td>163</td>\n",
              "      <td>153.583333</td>\n",
              "      <td>232</td>\n",
              "      <td>94</td>\n",
              "      <td>141.5</td>\n",
              "    </tr>\n",
              "  </tbody>\n",
              "</table>\n",
              "</div>"
            ],
            "text/plain": [
              "   companyId  jobType  degree  ...  group_max  group_min  group_median\n",
              "0         31      5.0     3.0  ...        150         98         136.0\n",
              "1         11      7.0     0.0  ...        204         90         132.0\n",
              "2         48      4.0     4.0  ...        173        116         137.0\n",
              "3         32      3.0     4.0  ...        169         77         131.0\n",
              "4         60      4.0     2.0  ...        232         94         141.5\n",
              "\n",
              "[5 rows x 12 columns]"
            ]
          },
          "metadata": {
            "tags": []
          },
          "execution_count": 31
        }
      ]
    },
    {
      "cell_type": "markdown",
      "metadata": {
        "id": "svk5S8h-G_z2",
        "colab_type": "text"
      },
      "source": [
        "# Model Building"
      ]
    },
    {
      "cell_type": "markdown",
      "metadata": {
        "id": "WaCNqJmZzjV3",
        "colab_type": "text"
      },
      "source": [
        "**Now our data is ready for predicition!!**"
      ]
    },
    {
      "cell_type": "markdown",
      "metadata": {
        "id": "me646oaj0CAs",
        "colab_type": "text"
      },
      "source": [
        "**Separating data into target and features.**"
      ]
    },
    {
      "cell_type": "code",
      "metadata": {
        "id": "CV-m9AWXfznJ",
        "colab_type": "code",
        "colab": {}
      },
      "source": [
        "# Splitting the dataset into predictors(x) and target(y)\n",
        "x = merged_data.drop('salary', axis = 1)\n",
        "y = merged_data['salary']\n"
      ],
      "execution_count": 0,
      "outputs": []
    },
    {
      "cell_type": "markdown",
      "metadata": {
        "id": "8TlsY7cIYRx5",
        "colab_type": "text"
      },
      "source": [
        "**Splitting the dataset into Test and train sets**"
      ]
    },
    {
      "cell_type": "code",
      "metadata": {
        "id": "TdfxH120YQyT",
        "colab_type": "code",
        "colab": {}
      },
      "source": [
        "from sklearn.model_selection import train_test_split\n",
        "X_train, X_test, y_train, y_test = train_test_split(x, y, test_size = 0.25, random_state = 0)\n"
      ],
      "execution_count": 0,
      "outputs": []
    },
    {
      "cell_type": "markdown",
      "metadata": {
        "id": "EXjItOwPCDuQ",
        "colab_type": "text"
      },
      "source": [
        "**The 5 models selected to test metrics are,**\n",
        "\n",
        "\n",
        "1.   Linear Regression without scaling and PCA\n",
        "2.   Linear Regression with scaling and PCA\n",
        "3.   Random Forest Regressor\n",
        "4.   XGBoost \n",
        "5.   Neural network\n",
        "\n"
      ]
    },
    {
      "cell_type": "code",
      "metadata": {
        "id": "rqEJ2Em8Z7ub",
        "colab_type": "code",
        "colab": {}
      },
      "source": [
        "class ModelBuilder:\n",
        "    def __init__(self, models=[]):#, default_num_iters=10, verbose_lvl=0):\n",
        "        '''initializes model list and dicts'''\n",
        "        self.models = models\n",
        "        self.best_model = None\n",
        "        self.predictions = None\n",
        "        self.mean_mse = {}\n",
        "        self.Test_MSE = {}\n",
        "        \n",
        "    def add_model(self, model):\n",
        "        self.models.append(model)\n",
        "\n",
        "    def cross_validate(self, feature_df,target_df, k, scoringtype):\n",
        "        '''cross validate models using given data'''\n",
        "        for model in self.models:\n",
        "            neg_mse = cross_val_score(model, feature_df, target_df, cv=k, n_jobs=-1, scoring= scoringtype)\n",
        "            self.mean_mse[model] = -1.0*np.mean(neg_mse)\n",
        "    \n",
        "    def TestSet_Results(self, X_train, X_test, y_train, y_test ):\n",
        "         for model in self.models:\n",
        "             model.fit(X_train,y_train)\n",
        "             Test_pred = model.predict(X_test)\n",
        "             self.Test_MSE[model] = mean_squared_error(y_test,Test_pred)\n",
        "\n",
        "    def select_best_model(self):\n",
        "        '''select model with lowest mse'''\n",
        "        self.best_model = min(self.Test_MSE , key=self.Test_MSE.get)      \n",
        "        \n",
        "    def save_results(self):\n",
        "        pass\n",
        "    \n",
        "    @staticmethod\n",
        "    def get_feature_importance(model, col_Names):\n",
        "        '''retrieves and sorts feature importances'''\n",
        "        if hasattr(model, 'feature_importances_'):\n",
        "            importances = model.feature_importances_\n",
        "            feature_importances = pd.DataFrame({'feature':col_Names, 'importance':importances})\n",
        "            feature_importances.sort_values(by='importance', ascending=False, inplace=True)\n",
        "            #set index to 'feature'\n",
        "            feature_importances.set_index('feature', inplace=True, drop=True)\n",
        "            return feature_importances\n",
        "        else:\n",
        "            #some models don't have feature_importances_\n",
        "            return \"Feature importances do not exist for given model\"\n",
        "\n",
        "    def print_summary(self):\n",
        "\n",
        "        '''prints summary of models, best model, and feature importance'''\n",
        "\n",
        "        print('\\nModel Summaries:\\n')\n",
        "\n",
        "        for model in models.mean_mse:\n",
        "            print('\\n', model, 'TrainSetCV- MSE:', models.mean_mse[model])\n",
        "            print('\\n', model, 'TestSet- MSE:', models.Test_MSE[model])\n",
        "\n",
        "        print('\\nBest Model:\\n', models.best_model)\n",
        "        print('\\nMSE of Best Model\\n', models.Test_MSE[models.best_model])\n",
        "\n",
        "        print('\\nFeature Importances\\n', models.get_feature_importance(models.best_model, col_Names))\n",
        "\n",
        "        feature_importances = self.get_feature_importance(models.best_model, col_Names)\n",
        "        feature_importances.plot.bar()\n",
        "        plt.show()"
      ],
      "execution_count": 0,
      "outputs": []
    },
    {
      "cell_type": "code",
      "metadata": {
        "id": "FhpFssZJwu1u",
        "colab_type": "code",
        "colab": {}
      },
      "source": [
        "# ModelBuilder.print_summary()"
      ],
      "execution_count": 0,
      "outputs": []
    },
    {
      "cell_type": "markdown",
      "metadata": {
        "id": "XsI5xcED4o72",
        "colab_type": "text"
      },
      "source": [
        "**Instantiate class and add models to the models list in models object**\n",
        "\n",
        "\n",
        "**Hyperparameter tuning already done by hand for RandomForest, XGBoost, Neural network models and the models with their best parameters are loaded below(Please find the tuning of models part at the end of notebook)**"
      ]
    },
    {
      "cell_type": "code",
      "metadata": {
        "id": "lqw5WSam4qQz",
        "colab_type": "code",
        "colab": {}
      },
      "source": [
        "#create model container\n",
        "models = ModelBuilder()\n",
        "\n",
        "#create models -- hyperparameter tuning already done by hand for each model\n",
        "models.add_model(LinearRegression())\n",
        "models.add_model(make_pipeline(StandardScaler(), PCA(), LinearRegression()))\n",
        "models.add_model(RandomForestRegressor(bootstrap=True, criterion='mse', max_depth=15,\n",
        "                      max_features=8, max_leaf_nodes=None,\n",
        "                      min_impurity_decrease=0.0, min_impurity_split=None,\n",
        "                      min_samples_leaf=4, min_samples_split=5,\n",
        "                      min_weight_fraction_leaf=0.0, n_estimators=200, n_jobs=-1,\n",
        "                      oob_score=False, random_state=None, verbose=0,\n",
        "                      warm_start=False))\n",
        "models.add_model(xgb.XGBRegressor(base_score=0.5, booster='gbtree', colsample_bylevel=1,\n",
        "             colsample_bynode=1, colsample_bytree=0.3, gamma=1,\n",
        "             importance_type='gain', learning_rate=0.1, max_delta_step=0,\n",
        "             max_depth=10, min_child_weight=1, missing=None, n_estimators=200,\n",
        "             n_jobs=1, nthread=None, objective='reg:linear', random_state=0,\n",
        "             reg_alpha=0, reg_lambda=1, scale_pos_weight=1, seed=None,\n",
        "             silent=None, subsample=0.9, verbosity=1))\n",
        "\n",
        "col_Names = ['companyId', 'jobType', 'degree', 'major', 'industry',\n",
        "       'yearsExperience', 'milesFromMetropolis', 'group_mean', 'group_max',\n",
        "       'group_min', 'group_median']"
      ],
      "execution_count": 0,
      "outputs": []
    },
    {
      "cell_type": "markdown",
      "metadata": {
        "id": "XBSiZWFy4xM4",
        "colab_type": "text"
      },
      "source": [
        "**Run methods to get Train Cross validation MSE and Test MSE for all Models**"
      ]
    },
    {
      "cell_type": "code",
      "metadata": {
        "id": "Skaf9fmlLqnf",
        "colab_type": "code",
        "colab": {
          "base_uri": "https://localhost:8080/",
          "height": 122
        },
        "outputId": "3ddcd12a-b24b-4fe0-bc7c-4f41da480182"
      },
      "source": [
        "models.cross_validate(feature_df = X_train, target_df = y_train , k=2, scoringtype = 'neg_mean_squared_error')\n",
        "models.TestSet_Results(X_train = X_train, X_test = X_test, y_train = y_train, y_test = y_test )\n",
        "models.select_best_model()\n"
      ],
      "execution_count": 36,
      "outputs": [
        {
          "output_type": "stream",
          "text": [
            "/usr/local/lib/python3.6/dist-packages/joblib/externals/loky/process_executor.py:706: UserWarning: A worker stopped while some jobs were given to the executor. This can be caused by a too short worker timeout or by a memory leak.\n",
            "  \"timeout or by a memory leak.\", UserWarning\n",
            "/usr/local/lib/python3.6/dist-packages/xgboost/core.py:587: FutureWarning: Series.base is deprecated and will be removed in a future version\n",
            "  if getattr(data, 'base', None) is not None and \\\n"
          ],
          "name": "stderr"
        },
        {
          "output_type": "stream",
          "text": [
            "[00:11:18] WARNING: /workspace/src/objective/regression_obj.cu:152: reg:linear is now deprecated in favor of reg:squarederror.\n"
          ],
          "name": "stdout"
        }
      ]
    },
    {
      "cell_type": "markdown",
      "metadata": {
        "id": "9aqXijAM5N0H",
        "colab_type": "text"
      },
      "source": [
        "**Summarize results**"
      ]
    },
    {
      "cell_type": "code",
      "metadata": {
        "id": "9sY6cC0c5RNN",
        "colab_type": "code",
        "colab": {
          "base_uri": "https://localhost:8080/",
          "height": 1000
        },
        "outputId": "6bbb6994-ee44-41db-b022-096d3ab92781"
      },
      "source": [
        "models.print_summary()"
      ],
      "execution_count": 37,
      "outputs": [
        {
          "output_type": "stream",
          "text": [
            "\n",
            "Model Summaries:\n",
            "\n",
            "\n",
            " LinearRegression(copy_X=True, fit_intercept=True, n_jobs=None, normalize=False) TrainSetCV- MSE: 356.44743455410855\n",
            "\n",
            " LinearRegression(copy_X=True, fit_intercept=True, n_jobs=None, normalize=False) TestSet- MSE: 356.110964265016\n",
            "\n",
            " Pipeline(memory=None,\n",
            "         steps=[('standardscaler',\n",
            "                 StandardScaler(copy=True, with_mean=True, with_std=True)),\n",
            "                ('pca',\n",
            "                 PCA(copy=True, iterated_power='auto', n_components=None,\n",
            "                     random_state=None, svd_solver='auto', tol=0.0,\n",
            "                     whiten=False)),\n",
            "                ('linearregression',\n",
            "                 LinearRegression(copy_X=True, fit_intercept=True, n_jobs=None,\n",
            "                                  normalize=False))],\n",
            "         verbose=False) TrainSetCV- MSE: 356.44743455410855\n",
            "\n",
            " Pipeline(memory=None,\n",
            "         steps=[('standardscaler',\n",
            "                 StandardScaler(copy=True, with_mean=True, with_std=True)),\n",
            "                ('pca',\n",
            "                 PCA(copy=True, iterated_power='auto', n_components=None,\n",
            "                     random_state=None, svd_solver='auto', tol=0.0,\n",
            "                     whiten=False)),\n",
            "                ('linearregression',\n",
            "                 LinearRegression(copy_X=True, fit_intercept=True, n_jobs=None,\n",
            "                                  normalize=False))],\n",
            "         verbose=False) TestSet- MSE: 356.1109642650159\n",
            "\n",
            " RandomForestRegressor(bootstrap=True, ccp_alpha=0.0, criterion='mse',\n",
            "                      max_depth=15, max_features=8, max_leaf_nodes=None,\n",
            "                      max_samples=None, min_impurity_decrease=0.0,\n",
            "                      min_impurity_split=None, min_samples_leaf=4,\n",
            "                      min_samples_split=5, min_weight_fraction_leaf=0.0,\n",
            "                      n_estimators=200, n_jobs=-1, oob_score=False,\n",
            "                      random_state=None, verbose=0, warm_start=False) TrainSetCV- MSE: 317.9938030447099\n",
            "\n",
            " RandomForestRegressor(bootstrap=True, ccp_alpha=0.0, criterion='mse',\n",
            "                      max_depth=15, max_features=8, max_leaf_nodes=None,\n",
            "                      max_samples=None, min_impurity_decrease=0.0,\n",
            "                      min_impurity_split=None, min_samples_leaf=4,\n",
            "                      min_samples_split=5, min_weight_fraction_leaf=0.0,\n",
            "                      n_estimators=200, n_jobs=-1, oob_score=False,\n",
            "                      random_state=None, verbose=0, warm_start=False) TestSet- MSE: 316.90068516671585\n",
            "\n",
            " XGBRegressor(base_score=0.5, booster='gbtree', colsample_bylevel=1,\n",
            "             colsample_bynode=1, colsample_bytree=0.3, gamma=1,\n",
            "             importance_type='gain', learning_rate=0.1, max_delta_step=0,\n",
            "             max_depth=10, min_child_weight=1, missing=None, n_estimators=200,\n",
            "             n_jobs=1, nthread=None, objective='reg:linear', random_state=0,\n",
            "             reg_alpha=0, reg_lambda=1, scale_pos_weight=1, seed=None,\n",
            "             silent=None, subsample=0.9, verbosity=1) TrainSetCV- MSE: 342.863030898954\n",
            "\n",
            " XGBRegressor(base_score=0.5, booster='gbtree', colsample_bylevel=1,\n",
            "             colsample_bynode=1, colsample_bytree=0.3, gamma=1,\n",
            "             importance_type='gain', learning_rate=0.1, max_delta_step=0,\n",
            "             max_depth=10, min_child_weight=1, missing=None, n_estimators=200,\n",
            "             n_jobs=1, nthread=None, objective='reg:linear', random_state=0,\n",
            "             reg_alpha=0, reg_lambda=1, scale_pos_weight=1, seed=None,\n",
            "             silent=None, subsample=0.9, verbosity=1) TestSet- MSE: 335.3691217473248\n",
            "\n",
            "Best Model:\n",
            " RandomForestRegressor(bootstrap=True, ccp_alpha=0.0, criterion='mse',\n",
            "                      max_depth=15, max_features=8, max_leaf_nodes=None,\n",
            "                      max_samples=None, min_impurity_decrease=0.0,\n",
            "                      min_impurity_split=None, min_samples_leaf=4,\n",
            "                      min_samples_split=5, min_weight_fraction_leaf=0.0,\n",
            "                      n_estimators=200, n_jobs=-1, oob_score=False,\n",
            "                      random_state=None, verbose=0, warm_start=False)\n",
            "\n",
            "MSE of Best Model\n",
            " 316.90068516671585\n",
            "\n",
            "Feature Importances\n",
            "                      importance\n",
            "feature                        \n",
            "group_mean             0.532486\n",
            "yearsExperience        0.149297\n",
            "group_median           0.127698\n",
            "milesFromMetropolis    0.104756\n",
            "group_min              0.040081\n",
            "group_max              0.023108\n",
            "jobType                0.007935\n",
            "companyId              0.006241\n",
            "degree                 0.003229\n",
            "major                  0.002605\n",
            "industry               0.002564\n"
          ],
          "name": "stdout"
        },
        {
          "output_type": "display_data",
          "data": {
            "image/png": "[encoded data removed]",
            "text/plain": [
              "<Figure size 432x288 with 1 Axes>"
            ]
          },
          "metadata": {
            "tags": []
          }
        }
      ]
    },
    {
      "cell_type": "markdown",
      "metadata": {
        "id": "IH_AT_PeYG_9",
        "colab_type": "text"
      },
      "source": [
        "**Now we will compare Random Forest MSE with Neural Networks MSE and see which has lowest MSE!**"
      ]
    },
    {
      "cell_type": "markdown",
      "metadata": {
        "id": "TeBx1Eztlwa5",
        "colab_type": "text"
      },
      "source": [
        "# Neural Networks\n"
      ]
    },
    {
      "cell_type": "markdown",
      "metadata": {
        "id": "ZRsw0I76l65h",
        "colab_type": "text"
      },
      "source": [
        " **Scaling predictors using Standard scalar**"
      ]
    },
    {
      "cell_type": "code",
      "metadata": {
        "id": "ZqNHPe4uc7nf",
        "colab_type": "code",
        "colab": {}
      },
      "source": [
        "\n",
        "Predictors = (X_train).values\n",
        "target = (y_train).values.reshape(-1, 1)\n",
        "\n",
        "from sklearn.preprocessing import StandardScaler\n",
        "sc_X = StandardScaler()\n",
        "sc_test_x = StandardScaler()\n",
        "Predictors = sc_X.fit_transform(Predictors)\n",
        "X_test_scaled = sc_test_x.fit_transform((X_test).values)\n",
        "y_test = y_test.values.reshape(-1, 1)\n"
      ],
      "execution_count": 0,
      "outputs": []
    },
    {
      "cell_type": "markdown",
      "metadata": {
        "id": "i9OGXo8Th8Cl",
        "colab_type": "text"
      },
      "source": [
        "**Building Neural network model**"
      ]
    },
    {
      "cell_type": "code",
      "metadata": {
        "id": "Oo7RNtgxmsWQ",
        "colab_type": "code",
        "outputId": "e44d4b1c-296c-433b-f661-c70d419f5dc7",
        "colab": {
          "base_uri": "https://localhost:8080/"
        }
      },
      "source": [
        "early_stopping_monitor = EarlyStopping(patience=3)\n",
        "n_cols = Predictors.shape[1]\n",
        "model = Sequential()\n",
        "model.add(Dense(200,activation='relu',input_shape = (n_cols,)))\n",
        "model.add(Dense(200,activation='relu'))\n",
        "model.add(Dense(200,activation='relu'))\n",
        "model.add(Dense(200,activation='relu'))\n",
        "model.add(Dense(200,activation='relu'))\n",
        "model.add(Dense(200,activation='relu'))\n",
        "model.add(Dense(200,activation='relu'))\n",
        "model.add(Dense(1))\n",
        "model.compile(optimizer='adam',loss='mean_squared_error')\n",
        "model.fit(Predictors,target,validation_split = 0.3, epochs = 30, callbacks = [early_stopping_monitor])\n"
      ],
      "execution_count": 0,
      "outputs": [
        {
          "output_type": "stream",
          "text": [
            "WARNING:tensorflow:From /usr/local/lib/python3.6/dist-packages/keras/backend/tensorflow_backend.py:66: The name tf.get_default_graph is deprecated. Please use tf.compat.v1.get_default_graph instead.\n",
            "\n",
            "WARNING:tensorflow:From /usr/local/lib/python3.6/dist-packages/keras/backend/tensorflow_backend.py:541: The name tf.placeholder is deprecated. Please use tf.compat.v1.placeholder instead.\n",
            "\n",
            "WARNING:tensorflow:From /usr/local/lib/python3.6/dist-packages/keras/backend/tensorflow_backend.py:4432: The name tf.random_uniform is deprecated. Please use tf.random.uniform instead.\n",
            "\n",
            "WARNING:tensorflow:From /usr/local/lib/python3.6/dist-packages/keras/optimizers.py:793: The name tf.train.Optimizer is deprecated. Please use tf.compat.v1.train.Optimizer instead.\n",
            "\n",
            "WARNING:tensorflow:From /usr/local/lib/python3.6/dist-packages/keras/backend/tensorflow_backend.py:1033: The name tf.assign_add is deprecated. Please use tf.compat.v1.assign_add instead.\n",
            "\n",
            "WARNING:tensorflow:From /usr/local/lib/python3.6/dist-packages/keras/backend/tensorflow_backend.py:1020: The name tf.assign is deprecated. Please use tf.compat.v1.assign instead.\n",
            "\n",
            "WARNING:tensorflow:From /usr/local/lib/python3.6/dist-packages/keras/backend/tensorflow_backend.py:3005: The name tf.Session is deprecated. Please use tf.compat.v1.Session instead.\n",
            "\n",
            "Train on 524997 samples, validate on 224999 samples\n",
            "Epoch 1/30\n",
            "WARNING:tensorflow:From /usr/local/lib/python3.6/dist-packages/keras/backend/tensorflow_backend.py:190: The name tf.get_default_session is deprecated. Please use tf.compat.v1.get_default_session instead.\n",
            "\n",
            "WARNING:tensorflow:From /usr/local/lib/python3.6/dist-packages/keras/backend/tensorflow_backend.py:197: The name tf.ConfigProto is deprecated. Please use tf.compat.v1.ConfigProto instead.\n",
            "\n",
            "WARNING:tensorflow:From /usr/local/lib/python3.6/dist-packages/keras/backend/tensorflow_backend.py:207: The name tf.global_variables is deprecated. Please use tf.compat.v1.global_variables instead.\n",
            "\n",
            "WARNING:tensorflow:From /usr/local/lib/python3.6/dist-packages/keras/backend/tensorflow_backend.py:216: The name tf.is_variable_initialized is deprecated. Please use tf.compat.v1.is_variable_initialized instead.\n",
            "\n",
            "WARNING:tensorflow:From /usr/local/lib/python3.6/dist-packages/keras/backend/tensorflow_backend.py:223: The name tf.variables_initializer is deprecated. Please use tf.compat.v1.variables_initializer instead.\n",
            "\n",
            "524997/524997 [==============================] - 88s 167us/step - loss: 359.9865 - val_loss: 335.0844\n",
            "Epoch 2/30\n",
            "524997/524997 [==============================] - 77s 146us/step - loss: 325.3053 - val_loss: 316.0515\n",
            "Epoch 3/30\n",
            "524997/524997 [==============================] - 78s 149us/step - loss: 321.2477 - val_loss: 311.0117\n",
            "Epoch 4/30\n",
            "524997/524997 [==============================] - 77s 147us/step - loss: 318.7533 - val_loss: 312.6847\n",
            "Epoch 5/30\n",
            "524997/524997 [==============================] - 76s 145us/step - loss: 317.1576 - val_loss: 310.5636\n",
            "Epoch 6/30\n",
            "524997/524997 [==============================] - 76s 145us/step - loss: 315.6955 - val_loss: 311.3954\n",
            "Epoch 7/30\n",
            "524997/524997 [==============================] - 77s 147us/step - loss: 314.8352 - val_loss: 308.0541\n",
            "Epoch 8/30\n",
            "524997/524997 [==============================] - 76s 145us/step - loss: 313.5576 - val_loss: 308.4486\n",
            "Epoch 9/30\n",
            "524997/524997 [==============================] - 76s 144us/step - loss: 312.8954 - val_loss: 314.4126\n",
            "Epoch 10/30\n",
            "524997/524997 [==============================] - 76s 144us/step - loss: 312.2221 - val_loss: 309.4798\n"
          ],
          "name": "stdout"
        },
        {
          "output_type": "execute_result",
          "data": {
            "text/plain": [
              "<keras.callbacks.History at 0x7f8a4516a668>"
            ]
          },
          "metadata": {
            "tags": []
          },
          "execution_count": 30
        }
      ]
    },
    {
      "cell_type": "code",
      "metadata": {
        "id": "n6X2Tr3-dl8B",
        "colab_type": "code",
        "outputId": "a1adf72d-3617-4baf-fe36-8c44cee8ae8e",
        "colab": {
          "base_uri": "https://localhost:8080/"
        }
      },
      "source": [
        "predictions = model.predict(X_test_scaled)\n",
        "\n",
        "MSE_Neural_network = mean_squared_error(y_test,predictions)\n",
        "print('MSE_Neural_network',MSE_Neural_network)"
      ],
      "execution_count": 0,
      "outputs": [
        {
          "output_type": "stream",
          "text": [
            "MSE_Neural_network 312.0905771702329\n"
          ],
          "name": "stdout"
        }
      ]
    },
    {
      "cell_type": "markdown",
      "metadata": {
        "id": "PWqYW1wdvsQG",
        "colab_type": "text"
      },
      "source": [
        "# Random Forest Model Tuning"
      ]
    },
    {
      "cell_type": "markdown",
      "metadata": {
        "id": "LA3ViUo1v-0w",
        "colab_type": "text"
      },
      "source": [
        " \n",
        "\n",
        "*  **Here we will first hand tune the model by changing one Hyperparameter value at a time and and keeping all others parameters constant**\n",
        "*   **Then we will perform grid search for fine tuning the hyperparameters by using hyperparameter values in the neighbourhood of hand tuned parameters**\n"
      ]
    },
    {
      "cell_type": "markdown",
      "metadata": {
        "id": "EgSg29zfiRNr",
        "colab_type": "text"
      },
      "source": [
        "**Baseline model without any tuning of hyperparameter space**"
      ]
    },
    {
      "cell_type": "code",
      "metadata": {
        "id": "UenNVn4c3bT3",
        "colab_type": "code",
        "outputId": "2805c8de-d2ec-4665-a296-abef268b51a7",
        "colab": {
          "base_uri": "https://localhost:8080/",
          "height": 34
        }
      },
      "source": [
        "from sklearn.ensemble import RandomForestRegressor\n",
        "regressor = RandomForestRegressor(n_estimators = 100, random_state = 0,n_jobs = -1)\n",
        "regressor.fit(X_train,y_train)\n",
        "\n",
        "X_test = np.array(X_test)\n",
        "\n",
        "# Predicting a new result\n",
        "y_pred = regressor.predict(X_test)\n",
        "\n",
        "#MSE\n",
        "from sklearn.metrics import mean_squared_error\n",
        "mean_squared_error(y_test,y_pred)\n"
      ],
      "execution_count": 0,
      "outputs": [
        {
          "output_type": "execute_result",
          "data": {
            "text/plain": [
              "339.0356263400887"
            ]
          },
          "metadata": {
            "tags": []
          },
          "execution_count": 32
        }
      ]
    },
    {
      "cell_type": "markdown",
      "metadata": {
        "id": "3z2R_30rwCSD",
        "colab_type": "text"
      },
      "source": [
        "**Hand tuning model for better hyper parameters**"
      ]
    },
    {
      "cell_type": "code",
      "metadata": {
        "id": "rps9kk6-7MAA",
        "colab_type": "code",
        "outputId": "aa34668c-a415-4107-c8b8-791d0755a239",
        "colab": {
          "base_uri": "https://localhost:8080/",
          "height": 313
        }
      },
      "source": [
        "#Hyper paarmeter tuning\n",
        "#Manually search for best max_depth\n",
        "# Create empty array to store results\n",
        "results = []\n",
        "# Enumerate through different max_depth values and store results\n",
        "for max_depth in [11,12,13,15,16,17]:\n",
        "    RF = RandomForestRegressor(max_depth = max_depth,n_jobs = -1)\n",
        "    RF.fit(X_train,y_train)\n",
        "    results.append(\n",
        "        {\n",
        "            'max_depth': max_depth,\n",
        "            'train_error': metrics.mean_squared_error(y_train, RF.predict(X_train)),\n",
        "            'test_error': metrics.mean_squared_error(y_test, RF.predict(X_test))\n",
        "        })\n",
        "\n",
        "# Display Results\n",
        "max_depth_lr = pd.DataFrame(results).set_index('max_depth').sort_index()\n",
        "max_depth_lr\n",
        "\n",
        "# Plot Max_Depth Learning Curve\n",
        "max_depth_lr.plot(title=\"Max_Depth Learning Curve\")"
      ],
      "execution_count": 0,
      "outputs": [
        {
          "output_type": "execute_result",
          "data": {
            "text/plain": [
              "<matplotlib.axes._subplots.AxesSubplot at 0x7f16200fe860>"
            ]
          },
          "metadata": {
            "tags": []
          },
          "execution_count": 42
        },
        {
          "output_type": "display_data",
          "data": {
            "image/png": "[encoded data removed]",
            "text/plain": [
              "<Figure size 432x288 with 1 Axes>"
            ]
          },
          "metadata": {
            "tags": []
          }
        }
      ]
    },
    {
      "cell_type": "code",
      "metadata": {
        "id": "XYxLaxHH8EJ-",
        "colab_type": "code",
        "outputId": "d764d562-adeb-45bc-f3f5-32f98041596d",
        "colab": {
          "base_uri": "https://localhost:8080/",
          "height": 568
        }
      },
      "source": [
        "#Manually search for best max_features\n",
        "results = []\n",
        "for max_features in [5,6,7,8,9,10,11]:\n",
        "    RF = RandomForestRegressor(max_features = max_features, max_depth  =12,n_jobs = -1)\n",
        "    RF.fit(X_train,y_train)\n",
        "    results.append(\n",
        "        {\n",
        "            'max_features': max_features,\n",
        "            'train_error': metrics.mean_squared_error(y_train, RF.predict(X_train)),\n",
        "            'test_error': metrics.mean_squared_error(y_test, RF.predict(X_test))\n",
        "        })\n",
        "\n",
        "max_features_df = pd.DataFrame(results).set_index('max_features').sort_index()\n",
        "max_features_df\n",
        "max_features_df.plot(title=\"max_features Learning Curve\")"
      ],
      "execution_count": 0,
      "outputs": [
        {
          "output_type": "stream",
          "text": [
            "/usr/local/lib/python3.6/dist-packages/sklearn/ensemble/forest.py:245: FutureWarning: The default value of n_estimators will change from 10 in version 0.20 to 100 in 0.22.\n",
            "  \"10 in version 0.20 to 100 in 0.22.\", FutureWarning)\n",
            "/usr/local/lib/python3.6/dist-packages/sklearn/ensemble/forest.py:245: FutureWarning: The default value of n_estimators will change from 10 in version 0.20 to 100 in 0.22.\n",
            "  \"10 in version 0.20 to 100 in 0.22.\", FutureWarning)\n",
            "/usr/local/lib/python3.6/dist-packages/sklearn/ensemble/forest.py:245: FutureWarning: The default value of n_estimators will change from 10 in version 0.20 to 100 in 0.22.\n",
            "  \"10 in version 0.20 to 100 in 0.22.\", FutureWarning)\n",
            "/usr/local/lib/python3.6/dist-packages/sklearn/ensemble/forest.py:245: FutureWarning: The default value of n_estimators will change from 10 in version 0.20 to 100 in 0.22.\n",
            "  \"10 in version 0.20 to 100 in 0.22.\", FutureWarning)\n",
            "/usr/local/lib/python3.6/dist-packages/sklearn/ensemble/forest.py:245: FutureWarning: The default value of n_estimators will change from 10 in version 0.20 to 100 in 0.22.\n",
            "  \"10 in version 0.20 to 100 in 0.22.\", FutureWarning)\n",
            "/usr/local/lib/python3.6/dist-packages/sklearn/ensemble/forest.py:245: FutureWarning: The default value of n_estimators will change from 10 in version 0.20 to 100 in 0.22.\n",
            "  \"10 in version 0.20 to 100 in 0.22.\", FutureWarning)\n",
            "/usr/local/lib/python3.6/dist-packages/sklearn/ensemble/forest.py:245: FutureWarning: The default value of n_estimators will change from 10 in version 0.20 to 100 in 0.22.\n",
            "  \"10 in version 0.20 to 100 in 0.22.\", FutureWarning)\n"
          ],
          "name": "stderr"
        },
        {
          "output_type": "execute_result",
          "data": {
            "text/plain": [
              "<matplotlib.axes._subplots.AxesSubplot at 0x7f36a43fd9e8>"
            ]
          },
          "metadata": {
            "tags": []
          },
          "execution_count": 33
        },
        {
          "output_type": "display_data",
          "data": {
            "image/png": "[encoded data removed]",
            "text/plain": [
              "<Figure size 432x288 with 1 Axes>"
            ]
          },
          "metadata": {
            "tags": []
          }
        }
      ]
    },
    {
      "cell_type": "code",
      "metadata": {
        "id": "B6ZdZm0HA41M",
        "colab_type": "code",
        "outputId": "ec29ee30-ffc2-45d1-e004-666cb9252dac",
        "colab": {
          "base_uri": "https://localhost:8080/",
          "height": 313
        }
      },
      "source": [
        "\n",
        "#For Best min_samples_split Parameter\n",
        "\n",
        "results = []\n",
        "for min_samples_split in [2,4,5,50]:\n",
        "    RF = RandomForestRegressor(min_samples_split = min_samples_split, n_estimators = 40, max_depth  =12,max_features = 9,n_jobs = -1 )\n",
        "    RF.fit(X_train,y_train)\n",
        "    results.append(\n",
        "        {\n",
        "            'min_samples_split': min_samples_split,\n",
        "            'train_error': metrics.mean_squared_error(y_train, RF.predict(X_train)),\n",
        "            'test_error': metrics.mean_squared_error(y_test, RF.predict(X_test))\n",
        "        })\n",
        "\n",
        "min_samples_split_df = pd.DataFrame(results).set_index('min_samples_split').sort_index()\n",
        "min_samples_split_df\n",
        "min_samples_split_df.plot(title=\"min_samples_split-Learning Curve\")"
      ],
      "execution_count": 0,
      "outputs": [
        {
          "output_type": "execute_result",
          "data": {
            "text/plain": [
              "<matplotlib.axes._subplots.AxesSubplot at 0x7fd2b7bef8d0>"
            ]
          },
          "metadata": {
            "tags": []
          },
          "execution_count": 33
        },
        {
          "output_type": "display_data",
          "data": {
            "image/png": "[encoded data removed]",
            "text/plain": [
              "<Figure size 432x288 with 1 Axes>"
            ]
          },
          "metadata": {
            "tags": []
          }
        }
      ]
    },
    {
      "cell_type": "code",
      "metadata": {
        "id": "ccxIYKb5M-iF",
        "colab_type": "code",
        "outputId": "848f15ca-2b81-4e70-89c6-2e3599cdd4ff",
        "colab": {
          "base_uri": "https://localhost:8080/",
          "height": 313
        }
      },
      "source": [
        "#For Best min_samples_leaf Parameter\n",
        "\n",
        "results = []\n",
        "for min_samples_leaf in [1,5,10,15]:\n",
        "    RF = RandomForestRegressor(min_samples_leaf = min_samples_leaf,n_estimators = 40, max_depth  =12,max_features = 9,min_samples_split=3,n_jobs = -1 )\n",
        "    RF.fit(X_train,y_train)\n",
        "    results.append(\n",
        "        {\n",
        "            'min_samples_leaf': min_samples_leaf,\n",
        "            'train_error': metrics.mean_squared_error(y_train, RF.predict(X_train)),\n",
        "            'test_error': metrics.mean_squared_error(y_test, RF.predict(X_test))\n",
        "        })\n",
        "\n",
        "min_samples_leaf_df = pd.DataFrame(results).set_index('min_samples_leaf').sort_index()\n",
        "min_samples_leaf_df\n",
        "min_samples_leaf_df.plot(title=\"min_samples_leaf-Learning Curve\")"
      ],
      "execution_count": 0,
      "outputs": [
        {
          "output_type": "execute_result",
          "data": {
            "text/plain": [
              "<matplotlib.axes._subplots.AxesSubplot at 0x7fd2b7be4b00>"
            ]
          },
          "metadata": {
            "tags": []
          },
          "execution_count": 34
        },
        {
          "output_type": "display_data",
          "data": {
            "image/png": "[encoded data removed]",
            "text/plain": [
              "<Figure size 432x288 with 1 Axes>"
            ]
          },
          "metadata": {
            "tags": []
          }
        }
      ]
    },
    {
      "cell_type": "markdown",
      "metadata": {
        "id": "R4C4iZg3QCEG",
        "colab_type": "text"
      },
      "source": [
        "Using the results obtained from individual tuning now we will implement Grid search to get even better hyper parameters for Random forest\n"
      ]
    },
    {
      "cell_type": "code",
      "metadata": {
        "id": "TxinR0E-QOW4",
        "colab_type": "code",
        "outputId": "54dedfbb-4942-494a-811f-08daa5f21ccb",
        "colab": {
          "base_uri": "https://localhost:8080/",
          "height": 121
        }
      },
      "source": [
        "#Performing GridSearchCV\n",
        "from sklearn.model_selection import GridSearchCV\n",
        "model = RandomForestRegressor(n_jobs = -1)\n",
        "# Define Parameters\n",
        "param_grid = {\"max_depth\": [11,12,13],\n",
        "              \"max_features\": [8,9,10],\n",
        "              \"min_samples_split\": [3,5],\n",
        "              \"min_samples_leaf\":[4,5]\n",
        "              }\n",
        "gs_cv = GridSearchCV(model, param_grid=param_grid, cv = 4, n_jobs=-1 ).fit(X_train, y_train)\n",
        "\n",
        "gs_cv.best_params_ \n"
      ],
      "execution_count": 0,
      "outputs": [
        {
          "output_type": "stream",
          "text": [
            "/usr/local/lib/python3.6/dist-packages/joblib/externals/loky/process_executor.py:706: UserWarning: A worker stopped while some jobs were given to the executor. This can be caused by a too short worker timeout or by a memory leak.\n",
            "  \"timeout or by a memory leak.\", UserWarning\n"
          ],
          "name": "stderr"
        },
        {
          "output_type": "execute_result",
          "data": {
            "text/plain": [
              "{'max_depth': 13,\n",
              " 'max_features': 8,\n",
              " 'min_samples_leaf': 5,\n",
              " 'min_samples_split': 3}"
            ]
          },
          "metadata": {
            "tags": []
          },
          "execution_count": 45
        }
      ]
    },
    {
      "cell_type": "code",
      "metadata": {
        "id": "e3uOo7ZGjPzU",
        "colab_type": "code",
        "outputId": "9e7cecf6-a346-4a44-b55d-9e795d13b58a",
        "colab": {
          "base_uri": "https://localhost:8080/",
          "height": 134
        }
      },
      "source": [
        "best_model = gs_cv.best_estimator_ \n",
        "best_model\n"
      ],
      "execution_count": 0,
      "outputs": [
        {
          "output_type": "execute_result",
          "data": {
            "text/plain": [
              "RandomForestRegressor(bootstrap=True, criterion='mse', max_depth=15,\n",
              "                      max_features=8, max_leaf_nodes=None,\n",
              "                      min_impurity_decrease=0.0, min_impurity_split=None,\n",
              "                      min_samples_leaf=4, min_samples_split=5,\n",
              "                      min_weight_fraction_leaf=0.0, n_estimators=20, n_jobs=-1,\n",
              "                      oob_score=False, random_state=None, verbose=0,\n",
              "                      warm_start=False)"
            ]
          },
          "metadata": {
            "tags": []
          },
          "execution_count": 24
        }
      ]
    },
    {
      "cell_type": "markdown",
      "metadata": {
        "id": "J7Dr1vb_tB3W",
        "colab_type": "text"
      },
      "source": [
        "# XGBoost Model Tuning"
      ]
    },
    {
      "cell_type": "markdown",
      "metadata": {
        "id": "DEd6G7w-wm5g",
        "colab_type": "text"
      },
      "source": [
        "** Base model without tuning**"
      ]
    },
    {
      "cell_type": "code",
      "metadata": {
        "id": "agk30NM5tIEW",
        "colab_type": "code",
        "outputId": "183a5dcf-f7ca-4b97-d3b2-84f4de4b4e8d",
        "colab": {
          "base_uri": "https://localhost:8080/",
          "height": 104
        }
      },
      "source": [
        "\n",
        "XGBoost = xgb.XGBRegressor()\n",
        "XGBoost.fit(X_train, y_train)\n",
        "predictions = XGBoost.predict(X_test)\n",
        "XGBoost.get_params()\n",
        "MSE_Neural_network = mean_squared_error(y_test,predictions)\n",
        "print('MSE_Neural_network',MSE_Neural_network)\n"
      ],
      "execution_count": 0,
      "outputs": [
        {
          "output_type": "stream",
          "text": [
            "/usr/local/lib/python3.6/dist-packages/xgboost/core.py:587: FutureWarning: Series.base is deprecated and will be removed in a future version\n",
            "  if getattr(data, 'base', None) is not None and \\\n"
          ],
          "name": "stderr"
        },
        {
          "output_type": "stream",
          "text": [
            "[20:42:34] WARNING: /workspace/src/objective/regression_obj.cu:152: reg:linear is now deprecated in favor of reg:squarederror.\n",
            "MSE_Neural_network 367.6388870568415\n"
          ],
          "name": "stdout"
        }
      ]
    },
    {
      "cell_type": "markdown",
      "metadata": {
        "id": "h555W-uStuBc",
        "colab_type": "text"
      },
      "source": [
        "**Random search of parameters, using 3 fold cross validation, \n",
        "searching across 50 different combinations, and using all available cores**"
      ]
    },
    {
      "cell_type": "code",
      "metadata": {
        "id": "SYtI8_WKt23D",
        "colab_type": "code",
        "colab": {}
      },
      "source": [
        "\n",
        "# gamma parameter\n",
        "gamma = [0,1,5]\n",
        "# max depth of the tree\n",
        "max_depth = [3,5,10,15,20]\n",
        "# no of variables that are being used in tree\n",
        "colsample_bytree = [0.3,0.5,0.8]\n",
        "# Minimum number of samples required at each leaf node\n",
        "subsample = [0.8,0.9,1]\n",
        "# learning rate for gradient descent\n",
        "learning_rate = [0.01,0.03,0.05,0.1]\n",
        "# Create the random grid\n",
        "random_grid = {'gamma': gamma,\n",
        "               'max_depth': max_depth,\n",
        "               'colsample_bytree': colsample_bytree,\n",
        "               'subsample': subsample,\n",
        "               'learning_rate': learning_rate}\n",
        "\n",
        "rf_random = RandomizedSearchCV(estimator = XGBoost, param_distributions = random_grid, n_iter = 50, cv = 3,random_state=42, n_jobs = -1)\n",
        "best_xgboost_model = rf_random.best_estimator_"
      ],
      "execution_count": 0,
      "outputs": []
    },
    {
      "cell_type": "code",
      "metadata": {
        "id": "lVEmxk8NuV_r",
        "colab_type": "code",
        "colab": {}
      },
      "source": [
        "best_xgboost_model = xgb.XGBRegressor(base_score=0.5, booster='gbtree', colsample_bylevel=1,\n",
        "             colsample_bynode=1, colsample_bytree=0.3, gamma=1,\n",
        "             importance_type='gain', learning_rate=0.1, max_delta_step=0,\n",
        "             max_depth=10, min_child_weight=1, missing=None, n_estimators=200,\n",
        "             n_jobs=1, nthread=None, objective='reg:linear', random_state=0,\n",
        "             reg_alpha=0, reg_lambda=1, scale_pos_weight=1, seed=None,\n",
        "             silent=None, subsample=0.9, verbosity=1)"
      ],
      "execution_count": 0,
      "outputs": []
    }
  ]
}