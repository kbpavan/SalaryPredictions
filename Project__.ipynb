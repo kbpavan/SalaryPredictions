{
  "nbformat": 4,
  "nbformat_minor": 0,
  "metadata": {
    "colab": {
      "name": "Project__.ipynb",
      "provenance": [],
      "collapsed_sections": [],
      "toc_visible": true
    },
    "kernelspec": {
      "name": "python3",
      "display_name": "Python 3"
    },
    "accelerator": "GPU"
  },
  "cells": [
    {
      "cell_type": "code",
      "metadata": {
        "id": "54UXWVhua4TE",
        "colab_type": "code",
        "colab": {}
      },
      "source": [
        ""
      ],
      "execution_count": 0,
      "outputs": []
    },
    {
      "cell_type": "code",
      "metadata": {
        "id": "IF6qm13rbIwB",
        "colab_type": "code",
        "outputId": "20348569-f57f-4529-8411-abacdaf3ff8a",
        "colab": {
          "base_uri": "https://localhost:8080/",
          "height": 34
        }
      },
      "source": [
        "from google.colab import drive\n",
        "drive.mount('/content/drive')"
      ],
      "execution_count": 0,
      "outputs": [
        {
          "output_type": "stream",
          "text": [
            "Mounted at /content/drive\n"
          ],
          "name": "stdout"
        }
      ]
    },
    {
      "cell_type": "markdown",
      "metadata": {
        "id": "XnH18kCFCoyD",
        "colab_type": "text"
      },
      "source": [
        "# Define"
      ]
    },
    {
      "cell_type": "markdown",
      "metadata": {
        "id": "KbsfJUBJCzIx",
        "colab_type": "text"
      },
      "source": [
        "**Import packages**"
      ]
    },
    {
      "cell_type": "code",
      "metadata": {
        "id": "zugNXAI_bi_f",
        "colab_type": "code",
        "outputId": "b9a90a9c-d7f5-4f0a-a141-e7f3d1a56ff2",
        "colab": {
          "base_uri": "https://localhost:8080/",
          "height": 34
        }
      },
      "source": [
        "import pandas as pd\n",
        "import numpy as np\n",
        "import matplotlib.pyplot as plt\n",
        "import seaborn as sns\n",
        "import scipy.stats as stats\n",
        "from sklearn.metrics import mean_squared_error\n",
        "from sklearn.preprocessing import LabelEncoder\n",
        "from sklearn.preprocessing import OrdinalEncoder\n",
        "from sklearn.ensemble import RandomForestRegressor\n",
        "from sklearn import metrics\n",
        "from keras.layers import Dense\n",
        "from keras.models import Sequential\n",
        "from keras.callbacks import EarlyStopping\n",
        "from keras.optimizers import SGD\n",
        "import xgboost as xgb\n"
      ],
      "execution_count": 0,
      "outputs": [
        {
          "output_type": "stream",
          "text": [
            "Using TensorFlow backend.\n"
          ],
          "name": "stderr"
        }
      ]
    },
    {
      "cell_type": "markdown",
      "metadata": {
        "id": "a5TEHYg0C93_",
        "colab_type": "text"
      },
      "source": [
        "# DISCOVER Data"
      ]
    },
    {
      "cell_type": "code",
      "metadata": {
        "id": "yS4cOR3cdS9X",
        "colab_type": "code",
        "colab": {}
      },
      "source": [
        "link = '/content/drive/My Drive/Colab Notebooks/train_features.csv'\n",
        "link2 = '/content/drive/My Drive/Colab Notebooks/train_salaries.csv'\n",
        "train_features = pd.read_csv(link)\n",
        "train_salaries = pd.read_csv(link2)\n"
      ],
      "execution_count": 0,
      "outputs": []
    },
    {
      "cell_type": "markdown",
      "metadata": {
        "id": "vJe-zN1lDf2l",
        "colab_type": "text"
      },
      "source": [
        "Target"
      ]
    },
    {
      "cell_type": "code",
      "metadata": {
        "id": "o4_NqQXtDoM0",
        "colab_type": "code",
        "outputId": "06975180-35d1-4b0c-caf2-33e98ecdbb34",
        "colab": {
          "base_uri": "https://localhost:8080/",
          "height": 195
        }
      },
      "source": [
        "train_salaries.head()"
      ],
      "execution_count": 0,
      "outputs": [
        {
          "output_type": "execute_result",
          "data": {
            "text/html": [
              "<div>\n",
              "<style scoped>\n",
              "    .dataframe tbody tr th:only-of-type {\n",
              "        vertical-align: middle;\n",
              "    }\n",
              "\n",
              "    .dataframe tbody tr th {\n",
              "        vertical-align: top;\n",
              "    }\n",
              "\n",
              "    .dataframe thead th {\n",
              "        text-align: right;\n",
              "    }\n",
              "</style>\n",
              "<table border=\"1\" class=\"dataframe\">\n",
              "  <thead>\n",
              "    <tr style=\"text-align: right;\">\n",
              "      <th></th>\n",
              "      <th>jobId</th>\n",
              "      <th>salary</th>\n",
              "    </tr>\n",
              "  </thead>\n",
              "  <tbody>\n",
              "    <tr>\n",
              "      <th>0</th>\n",
              "      <td>JOB1362684407687</td>\n",
              "      <td>130</td>\n",
              "    </tr>\n",
              "    <tr>\n",
              "      <th>1</th>\n",
              "      <td>JOB1362684407688</td>\n",
              "      <td>101</td>\n",
              "    </tr>\n",
              "    <tr>\n",
              "      <th>2</th>\n",
              "      <td>JOB1362684407689</td>\n",
              "      <td>137</td>\n",
              "    </tr>\n",
              "    <tr>\n",
              "      <th>3</th>\n",
              "      <td>JOB1362684407690</td>\n",
              "      <td>142</td>\n",
              "    </tr>\n",
              "    <tr>\n",
              "      <th>4</th>\n",
              "      <td>JOB1362684407691</td>\n",
              "      <td>163</td>\n",
              "    </tr>\n",
              "  </tbody>\n",
              "</table>\n",
              "</div>"
            ],
            "text/plain": [
              "              jobId  salary\n",
              "0  JOB1362684407687     130\n",
              "1  JOB1362684407688     101\n",
              "2  JOB1362684407689     137\n",
              "3  JOB1362684407690     142\n",
              "4  JOB1362684407691     163"
            ]
          },
          "metadata": {
            "tags": []
          },
          "execution_count": 4
        }
      ]
    },
    {
      "cell_type": "markdown",
      "metadata": {
        "id": "klkPe6TTDqMO",
        "colab_type": "text"
      },
      "source": [
        "Features"
      ]
    },
    {
      "cell_type": "code",
      "metadata": {
        "id": "T4z2VszODW-o",
        "colab_type": "code",
        "outputId": "2363b89b-6498-4b41-f222-7cab644870a3",
        "colab": {
          "base_uri": "https://localhost:8080/",
          "height": 195
        }
      },
      "source": [
        "train_features.head()"
      ],
      "execution_count": 0,
      "outputs": [
        {
          "output_type": "execute_result",
          "data": {
            "text/html": [
              "<div>\n",
              "<style scoped>\n",
              "    .dataframe tbody tr th:only-of-type {\n",
              "        vertical-align: middle;\n",
              "    }\n",
              "\n",
              "    .dataframe tbody tr th {\n",
              "        vertical-align: top;\n",
              "    }\n",
              "\n",
              "    .dataframe thead th {\n",
              "        text-align: right;\n",
              "    }\n",
              "</style>\n",
              "<table border=\"1\" class=\"dataframe\">\n",
              "  <thead>\n",
              "    <tr style=\"text-align: right;\">\n",
              "      <th></th>\n",
              "      <th>jobId</th>\n",
              "      <th>companyId</th>\n",
              "      <th>jobType</th>\n",
              "      <th>degree</th>\n",
              "      <th>major</th>\n",
              "      <th>industry</th>\n",
              "      <th>yearsExperience</th>\n",
              "      <th>milesFromMetropolis</th>\n",
              "    </tr>\n",
              "  </thead>\n",
              "  <tbody>\n",
              "    <tr>\n",
              "      <th>0</th>\n",
              "      <td>JOB1362684407687</td>\n",
              "      <td>COMP37</td>\n",
              "      <td>CFO</td>\n",
              "      <td>MASTERS</td>\n",
              "      <td>MATH</td>\n",
              "      <td>HEALTH</td>\n",
              "      <td>10</td>\n",
              "      <td>83</td>\n",
              "    </tr>\n",
              "    <tr>\n",
              "      <th>1</th>\n",
              "      <td>JOB1362684407688</td>\n",
              "      <td>COMP19</td>\n",
              "      <td>CEO</td>\n",
              "      <td>HIGH_SCHOOL</td>\n",
              "      <td>NONE</td>\n",
              "      <td>WEB</td>\n",
              "      <td>3</td>\n",
              "      <td>73</td>\n",
              "    </tr>\n",
              "    <tr>\n",
              "      <th>2</th>\n",
              "      <td>JOB1362684407689</td>\n",
              "      <td>COMP52</td>\n",
              "      <td>VICE_PRESIDENT</td>\n",
              "      <td>DOCTORAL</td>\n",
              "      <td>PHYSICS</td>\n",
              "      <td>HEALTH</td>\n",
              "      <td>10</td>\n",
              "      <td>38</td>\n",
              "    </tr>\n",
              "    <tr>\n",
              "      <th>3</th>\n",
              "      <td>JOB1362684407690</td>\n",
              "      <td>COMP38</td>\n",
              "      <td>MANAGER</td>\n",
              "      <td>DOCTORAL</td>\n",
              "      <td>CHEMISTRY</td>\n",
              "      <td>AUTO</td>\n",
              "      <td>8</td>\n",
              "      <td>17</td>\n",
              "    </tr>\n",
              "    <tr>\n",
              "      <th>4</th>\n",
              "      <td>JOB1362684407691</td>\n",
              "      <td>COMP7</td>\n",
              "      <td>VICE_PRESIDENT</td>\n",
              "      <td>BACHELORS</td>\n",
              "      <td>PHYSICS</td>\n",
              "      <td>FINANCE</td>\n",
              "      <td>8</td>\n",
              "      <td>16</td>\n",
              "    </tr>\n",
              "  </tbody>\n",
              "</table>\n",
              "</div>"
            ],
            "text/plain": [
              "              jobId companyId  ... yearsExperience milesFromMetropolis\n",
              "0  JOB1362684407687    COMP37  ...              10                  83\n",
              "1  JOB1362684407688    COMP19  ...               3                  73\n",
              "2  JOB1362684407689    COMP52  ...              10                  38\n",
              "3  JOB1362684407690    COMP38  ...               8                  17\n",
              "4  JOB1362684407691     COMP7  ...               8                  16\n",
              "\n",
              "[5 rows x 8 columns]"
            ]
          },
          "metadata": {
            "tags": []
          },
          "execution_count": 5
        }
      ]
    },
    {
      "cell_type": "markdown",
      "metadata": {
        "id": "80MxsEHGD3Er",
        "colab_type": "text"
      },
      "source": [
        "Merging 2 data frames"
      ]
    },
    {
      "cell_type": "code",
      "metadata": {
        "id": "_k3ihNccffXl",
        "colab_type": "code",
        "colab": {}
      },
      "source": [
        "merged_data = pd.merge(train_features,train_salaries,how='inner', on='jobId')"
      ],
      "execution_count": 0,
      "outputs": []
    },
    {
      "cell_type": "markdown",
      "metadata": {
        "id": "6G7Cw5V9GaZQ",
        "colab_type": "text"
      },
      "source": [
        "Ckecking for any duplicate data"
      ]
    },
    {
      "cell_type": "code",
      "metadata": {
        "id": "8rTLOhpvGew_",
        "colab_type": "code",
        "outputId": "aa9ce3bf-b296-47f6-e2a5-eb5d643515c6",
        "colab": {
          "base_uri": "https://localhost:8080/",
          "height": 34
        }
      },
      "source": [
        "\n",
        "len(merged_data[merged_data.duplicated()])\n"
      ],
      "execution_count": 0,
      "outputs": [
        {
          "output_type": "execute_result",
          "data": {
            "text/plain": [
              "0"
            ]
          },
          "metadata": {
            "tags": []
          },
          "execution_count": 7
        }
      ]
    },
    {
      "cell_type": "markdown",
      "metadata": {
        "id": "ova91P9tcAY3",
        "colab_type": "text"
      },
      "source": [
        "Removing jobid coulmn as it is unique for individual\n"
      ]
    },
    {
      "cell_type": "code",
      "metadata": {
        "id": "Vo2KHVUFcBAM",
        "colab_type": "code",
        "colab": {}
      },
      "source": [
        "merged_data = merged_data.drop('jobId', axis = 1)"
      ],
      "execution_count": 0,
      "outputs": []
    },
    {
      "cell_type": "markdown",
      "metadata": {
        "id": "ITK4-zM3EYV_",
        "colab_type": "text"
      },
      "source": [
        "Checking for any odd values in numeric data"
      ]
    },
    {
      "cell_type": "code",
      "metadata": {
        "id": "hSrE_bVhEiiF",
        "colab_type": "code",
        "outputId": "4d48a9db-0941-4433-dc1f-959901bb730f",
        "colab": {
          "base_uri": "https://localhost:8080/",
          "height": 284
        }
      },
      "source": [
        "merged_data.describe()"
      ],
      "execution_count": 0,
      "outputs": [
        {
          "output_type": "execute_result",
          "data": {
            "text/html": [
              "<div>\n",
              "<style scoped>\n",
              "    .dataframe tbody tr th:only-of-type {\n",
              "        vertical-align: middle;\n",
              "    }\n",
              "\n",
              "    .dataframe tbody tr th {\n",
              "        vertical-align: top;\n",
              "    }\n",
              "\n",
              "    .dataframe thead th {\n",
              "        text-align: right;\n",
              "    }\n",
              "</style>\n",
              "<table border=\"1\" class=\"dataframe\">\n",
              "  <thead>\n",
              "    <tr style=\"text-align: right;\">\n",
              "      <th></th>\n",
              "      <th>yearsExperience</th>\n",
              "      <th>milesFromMetropolis</th>\n",
              "      <th>salary</th>\n",
              "    </tr>\n",
              "  </thead>\n",
              "  <tbody>\n",
              "    <tr>\n",
              "      <th>count</th>\n",
              "      <td>1000000.000000</td>\n",
              "      <td>1000000.000000</td>\n",
              "      <td>1000000.000000</td>\n",
              "    </tr>\n",
              "    <tr>\n",
              "      <th>mean</th>\n",
              "      <td>11.992386</td>\n",
              "      <td>49.529260</td>\n",
              "      <td>116.061818</td>\n",
              "    </tr>\n",
              "    <tr>\n",
              "      <th>std</th>\n",
              "      <td>7.212391</td>\n",
              "      <td>28.877733</td>\n",
              "      <td>38.717936</td>\n",
              "    </tr>\n",
              "    <tr>\n",
              "      <th>min</th>\n",
              "      <td>0.000000</td>\n",
              "      <td>0.000000</td>\n",
              "      <td>0.000000</td>\n",
              "    </tr>\n",
              "    <tr>\n",
              "      <th>25%</th>\n",
              "      <td>6.000000</td>\n",
              "      <td>25.000000</td>\n",
              "      <td>88.000000</td>\n",
              "    </tr>\n",
              "    <tr>\n",
              "      <th>50%</th>\n",
              "      <td>12.000000</td>\n",
              "      <td>50.000000</td>\n",
              "      <td>114.000000</td>\n",
              "    </tr>\n",
              "    <tr>\n",
              "      <th>75%</th>\n",
              "      <td>18.000000</td>\n",
              "      <td>75.000000</td>\n",
              "      <td>141.000000</td>\n",
              "    </tr>\n",
              "    <tr>\n",
              "      <th>max</th>\n",
              "      <td>24.000000</td>\n",
              "      <td>99.000000</td>\n",
              "      <td>301.000000</td>\n",
              "    </tr>\n",
              "  </tbody>\n",
              "</table>\n",
              "</div>"
            ],
            "text/plain": [
              "       yearsExperience  milesFromMetropolis          salary\n",
              "count   1000000.000000       1000000.000000  1000000.000000\n",
              "mean         11.992386            49.529260      116.061818\n",
              "std           7.212391            28.877733       38.717936\n",
              "min           0.000000             0.000000        0.000000\n",
              "25%           6.000000            25.000000       88.000000\n",
              "50%          12.000000            50.000000      114.000000\n",
              "75%          18.000000            75.000000      141.000000\n",
              "max          24.000000            99.000000      301.000000"
            ]
          },
          "metadata": {
            "tags": []
          },
          "execution_count": 9
        }
      ]
    },
    {
      "cell_type": "markdown",
      "metadata": {
        "id": "dT9oUoR3Er7S",
        "colab_type": "text"
      },
      "source": [
        "Looks like salary column is having some salaries as 0. This is odd, have to look deeply into the reasons."
      ]
    },
    {
      "cell_type": "code",
      "metadata": {
        "id": "P5pRLqHSFBfU",
        "colab_type": "code",
        "outputId": "ea33bb7f-7cfb-46d9-d3e7-5bbcc977b75b",
        "colab": {
          "base_uri": "https://localhost:8080/",
          "height": 204
        }
      },
      "source": [
        "Salary_Zero =  merged_data[merged_data.salary== 0]\n",
        "Salary_Zero"
      ],
      "execution_count": 0,
      "outputs": [
        {
          "output_type": "execute_result",
          "data": {
            "text/html": [
              "<div>\n",
              "<style scoped>\n",
              "    .dataframe tbody tr th:only-of-type {\n",
              "        vertical-align: middle;\n",
              "    }\n",
              "\n",
              "    .dataframe tbody tr th {\n",
              "        vertical-align: top;\n",
              "    }\n",
              "\n",
              "    .dataframe thead th {\n",
              "        text-align: right;\n",
              "    }\n",
              "</style>\n",
              "<table border=\"1\" class=\"dataframe\">\n",
              "  <thead>\n",
              "    <tr style=\"text-align: right;\">\n",
              "      <th></th>\n",
              "      <th>companyId</th>\n",
              "      <th>jobType</th>\n",
              "      <th>degree</th>\n",
              "      <th>major</th>\n",
              "      <th>industry</th>\n",
              "      <th>yearsExperience</th>\n",
              "      <th>milesFromMetropolis</th>\n",
              "      <th>salary</th>\n",
              "    </tr>\n",
              "  </thead>\n",
              "  <tbody>\n",
              "    <tr>\n",
              "      <th>30559</th>\n",
              "      <td>COMP44</td>\n",
              "      <td>JUNIOR</td>\n",
              "      <td>DOCTORAL</td>\n",
              "      <td>MATH</td>\n",
              "      <td>AUTO</td>\n",
              "      <td>11</td>\n",
              "      <td>7</td>\n",
              "      <td>0</td>\n",
              "    </tr>\n",
              "    <tr>\n",
              "      <th>495984</th>\n",
              "      <td>COMP34</td>\n",
              "      <td>JUNIOR</td>\n",
              "      <td>NONE</td>\n",
              "      <td>NONE</td>\n",
              "      <td>OIL</td>\n",
              "      <td>1</td>\n",
              "      <td>25</td>\n",
              "      <td>0</td>\n",
              "    </tr>\n",
              "    <tr>\n",
              "      <th>652076</th>\n",
              "      <td>COMP25</td>\n",
              "      <td>CTO</td>\n",
              "      <td>HIGH_SCHOOL</td>\n",
              "      <td>NONE</td>\n",
              "      <td>AUTO</td>\n",
              "      <td>6</td>\n",
              "      <td>60</td>\n",
              "      <td>0</td>\n",
              "    </tr>\n",
              "    <tr>\n",
              "      <th>816129</th>\n",
              "      <td>COMP42</td>\n",
              "      <td>MANAGER</td>\n",
              "      <td>DOCTORAL</td>\n",
              "      <td>ENGINEERING</td>\n",
              "      <td>FINANCE</td>\n",
              "      <td>18</td>\n",
              "      <td>6</td>\n",
              "      <td>0</td>\n",
              "    </tr>\n",
              "    <tr>\n",
              "      <th>828156</th>\n",
              "      <td>COMP40</td>\n",
              "      <td>VICE_PRESIDENT</td>\n",
              "      <td>MASTERS</td>\n",
              "      <td>ENGINEERING</td>\n",
              "      <td>WEB</td>\n",
              "      <td>3</td>\n",
              "      <td>29</td>\n",
              "      <td>0</td>\n",
              "    </tr>\n",
              "  </tbody>\n",
              "</table>\n",
              "</div>"
            ],
            "text/plain": [
              "       companyId         jobType  ... milesFromMetropolis salary\n",
              "30559     COMP44          JUNIOR  ...                   7      0\n",
              "495984    COMP34          JUNIOR  ...                  25      0\n",
              "652076    COMP25             CTO  ...                  60      0\n",
              "816129    COMP42         MANAGER  ...                   6      0\n",
              "828156    COMP40  VICE_PRESIDENT  ...                  29      0\n",
              "\n",
              "[5 rows x 8 columns]"
            ]
          },
          "metadata": {
            "tags": []
          },
          "execution_count": 7
        }
      ]
    },
    {
      "cell_type": "markdown",
      "metadata": {
        "id": "D9YSez5HFHZo",
        "colab_type": "text"
      },
      "source": [
        "These are the only 5 rows that are having salaries as 0. Looking at their degrees and jobtypes, we can remove this data as bad data."
      ]
    },
    {
      "cell_type": "code",
      "metadata": {
        "id": "QXVut_klFnvs",
        "colab_type": "code",
        "colab": {}
      },
      "source": [
        "merged_data = merged_data[merged_data.salary != 0]"
      ],
      "execution_count": 0,
      "outputs": []
    },
    {
      "cell_type": "markdown",
      "metadata": {
        "id": "r0j_3voGXVI6",
        "colab_type": "text"
      },
      "source": [
        "Visualizing target variable"
      ]
    },
    {
      "cell_type": "code",
      "metadata": {
        "id": "5AXqYwkBXmRl",
        "colab_type": "code",
        "outputId": "1084aff7-99e3-4054-837b-b56505cdda49",
        "colab": {
          "base_uri": "https://localhost:8080/",
          "height": 549
        }
      },
      "source": [
        "sns.distplot(merged_data.salary, bins=20)\n",
        "plt.show()\n",
        "sns.boxplot(merged_data.salary)\n",
        "plt.show()"
      ],
      "execution_count": 0,
      "outputs": [
        {
          "output_type": "display_data",
          "data": {
            "image/png": "[encoded data removed]",
            "text/plain": [
              "<Figure size 432x288 with 1 Axes>"
            ]
          },
          "metadata": {
            "tags": []
          }
        },
        {
          "output_type": "display_data",
          "data": {
            "image/png": "[encoded data removed]",
            "text/plain": [
              "<Figure size 432x288 with 1 Axes>"
            ]
          },
          "metadata": {
            "tags": []
          }
        }
      ]
    },
    {
      "cell_type": "markdown",
      "metadata": {
        "id": "sXF_rMLrYfdo",
        "colab_type": "text"
      },
      "source": [
        "From the box plot it looks like there are some outliers in salaries."
      ]
    },
    {
      "cell_type": "markdown",
      "metadata": {
        "id": "iY-GDbTJbptd",
        "colab_type": "text"
      },
      "source": [
        "Removing outliers using upper/lower limts from Inter Quartile range calculation"
      ]
    },
    {
      "cell_type": "code",
      "metadata": {
        "id": "uqsydvf1YpRE",
        "colab_type": "code",
        "outputId": "f69b4a3c-abcb-4699-b07e-4cc1490f40e9",
        "colab": {
          "base_uri": "https://localhost:8080/",
          "height": 34
        }
      },
      "source": [
        "results = merged_data.salary.describe()\n",
        "InterQuartileRange = results['75%'] - results['25%']\n",
        "Upperlimit = results['75%'] +( 1.5 * InterQuartileRange )\n",
        "lowerlimit = results['25%'] - ( 1.5 * InterQuartileRange )\n",
        "print(\"Upperlimit:\",Upperlimit,\"lowerlimit:\", lowerlimit)\n"
      ],
      "execution_count": 0,
      "outputs": [
        {
          "output_type": "stream",
          "text": [
            "Upperlimit: 220.5 lowerlimit: 8.5\n"
          ],
          "name": "stdout"
        }
      ]
    },
    {
      "cell_type": "markdown",
      "metadata": {
        "id": "EvY53MpEckZJ",
        "colab_type": "text"
      },
      "source": [
        "We will look at the jobs of people having salaries greater than 220.5"
      ]
    },
    {
      "cell_type": "code",
      "metadata": {
        "id": "Q8v6ZsPIcyGX",
        "colab_type": "code",
        "outputId": "4a5de617-0a20-4581-ca5b-b9fa2a717e18",
        "colab": {
          "base_uri": "https://localhost:8080/",
          "height": 153
        }
      },
      "source": [
        "merged_data[merged_data.salary > 220.5]['jobType'].value_counts()"
      ],
      "execution_count": 0,
      "outputs": [
        {
          "output_type": "execute_result",
          "data": {
            "text/plain": [
              "CEO               3227\n",
              "CFO               1496\n",
              "CTO               1488\n",
              "VICE_PRESIDENT     603\n",
              "MANAGER            217\n",
              "SENIOR              66\n",
              "JUNIOR              20\n",
              "Name: jobType, dtype: int64"
            ]
          },
          "metadata": {
            "tags": []
          },
          "execution_count": 11
        }
      ]
    },
    {
      "cell_type": "markdown",
      "metadata": {
        "id": "bNW4xvOWd7Ua",
        "colab_type": "text"
      },
      "source": [
        "Most of the people are in C-Suite as expected but there are some Junior positions having salaries >220k. We will see which industries have junior positions with 220k + salaries"
      ]
    },
    {
      "cell_type": "code",
      "metadata": {
        "id": "ifEwscmCeY9c",
        "colab_type": "code",
        "outputId": "70d29f05-23fb-426d-9c77-66aeb577289c",
        "colab": {
          "base_uri": "https://localhost:8080/",
          "height": 85
        }
      },
      "source": [
        "merged_data[(merged_data.salary > 220.5) & (merged_data.jobType == 'JUNIOR')].industry.value_counts()"
      ],
      "execution_count": 0,
      "outputs": [
        {
          "output_type": "execute_result",
          "data": {
            "text/plain": [
              "OIL        11\n",
              "FINANCE     8\n",
              "WEB         1\n",
              "Name: industry, dtype: int64"
            ]
          },
          "metadata": {
            "tags": []
          },
          "execution_count": 12
        }
      ]
    },
    {
      "cell_type": "markdown",
      "metadata": {
        "id": "Z3F2kaCdee3U",
        "colab_type": "text"
      },
      "source": [
        "Oil and finance industries are known for higher salaries so this data looks legitimate."
      ]
    },
    {
      "cell_type": "markdown",
      "metadata": {
        "id": "1rpoNN35eq_E",
        "colab_type": "text"
      },
      "source": [
        "Now we will look at People having less than 8k salaries"
      ]
    },
    {
      "cell_type": "code",
      "metadata": {
        "id": "4b6Y9jESeyK1",
        "colab_type": "code",
        "outputId": "d5b6f692-74e6-4d2d-8e86-270e3648ea15",
        "colab": {
          "base_uri": "https://localhost:8080/",
          "height": 34
        }
      },
      "source": [
        "merged_data[merged_data.salary < 8.5].jobType.value_counts()"
      ],
      "execution_count": 0,
      "outputs": [
        {
          "output_type": "execute_result",
          "data": {
            "text/plain": [
              "Series([], Name: jobType, dtype: int64)"
            ]
          },
          "metadata": {
            "tags": []
          },
          "execution_count": 13
        }
      ]
    },
    {
      "cell_type": "markdown",
      "metadata": {
        "id": "27FUTF6KfWFG",
        "colab_type": "text"
      },
      "source": [
        "These doesn't look true. So we remove these records from data"
      ]
    },
    {
      "cell_type": "code",
      "metadata": {
        "id": "HEUT57IOfu_P",
        "colab_type": "code",
        "colab": {}
      },
      "source": [
        "merged_data = merged_data[merged_data.salary > 8.5]"
      ],
      "execution_count": 0,
      "outputs": []
    },
    {
      "cell_type": "markdown",
      "metadata": {
        "id": "iQbx9VGAfrIE",
        "colab_type": "text"
      },
      "source": [
        "Now we will look at Categorical data"
      ]
    },
    {
      "cell_type": "code",
      "metadata": {
        "id": "KWgSw8vkfx9R",
        "colab_type": "code",
        "outputId": "a4a45e6e-b8d1-42b9-f881-c76b45400c86",
        "colab": {
          "base_uri": "https://localhost:8080/",
          "height": 173
        }
      },
      "source": [
        "merged_data.describe(include = ['O'])"
      ],
      "execution_count": 0,
      "outputs": [
        {
          "output_type": "execute_result",
          "data": {
            "text/html": [
              "<div>\n",
              "<style scoped>\n",
              "    .dataframe tbody tr th:only-of-type {\n",
              "        vertical-align: middle;\n",
              "    }\n",
              "\n",
              "    .dataframe tbody tr th {\n",
              "        vertical-align: top;\n",
              "    }\n",
              "\n",
              "    .dataframe thead th {\n",
              "        text-align: right;\n",
              "    }\n",
              "</style>\n",
              "<table border=\"1\" class=\"dataframe\">\n",
              "  <thead>\n",
              "    <tr style=\"text-align: right;\">\n",
              "      <th></th>\n",
              "      <th>companyId</th>\n",
              "      <th>jobType</th>\n",
              "      <th>degree</th>\n",
              "      <th>major</th>\n",
              "      <th>industry</th>\n",
              "    </tr>\n",
              "  </thead>\n",
              "  <tbody>\n",
              "    <tr>\n",
              "      <th>count</th>\n",
              "      <td>999995</td>\n",
              "      <td>999995</td>\n",
              "      <td>999995</td>\n",
              "      <td>999995</td>\n",
              "      <td>999995</td>\n",
              "    </tr>\n",
              "    <tr>\n",
              "      <th>unique</th>\n",
              "      <td>63</td>\n",
              "      <td>8</td>\n",
              "      <td>5</td>\n",
              "      <td>9</td>\n",
              "      <td>7</td>\n",
              "    </tr>\n",
              "    <tr>\n",
              "      <th>top</th>\n",
              "      <td>COMP39</td>\n",
              "      <td>SENIOR</td>\n",
              "      <td>HIGH_SCHOOL</td>\n",
              "      <td>NONE</td>\n",
              "      <td>WEB</td>\n",
              "    </tr>\n",
              "    <tr>\n",
              "      <th>freq</th>\n",
              "      <td>16193</td>\n",
              "      <td>125886</td>\n",
              "      <td>236975</td>\n",
              "      <td>532353</td>\n",
              "      <td>143205</td>\n",
              "    </tr>\n",
              "  </tbody>\n",
              "</table>\n",
              "</div>"
            ],
            "text/plain": [
              "       companyId jobType       degree   major industry\n",
              "count     999995  999995       999995  999995   999995\n",
              "unique        63       8            5       9        7\n",
              "top       COMP39  SENIOR  HIGH_SCHOOL    NONE      WEB\n",
              "freq       16193  125886       236975  532353   143205"
            ]
          },
          "metadata": {
            "tags": []
          },
          "execution_count": 15
        }
      ]
    },
    {
      "cell_type": "code",
      "metadata": {
        "id": "QsM50EMDgA1s",
        "colab_type": "code",
        "outputId": "8b311eed-a2fe-43b0-9404-79ab9d8ef34d",
        "colab": {
          "base_uri": "https://localhost:8080/",
          "height": 170
        }
      },
      "source": [
        "merged_data[merged_data.degree == 'NONE'].jobType.value_counts()"
      ],
      "execution_count": 0,
      "outputs": [
        {
          "output_type": "execute_result",
          "data": {
            "text/plain": [
              "JANITOR           62544\n",
              "SENIOR            25117\n",
              "MANAGER           25092\n",
              "CEO               24898\n",
              "CTO               24882\n",
              "VICE_PRESIDENT    24825\n",
              "JUNIOR            24781\n",
              "CFO               24714\n",
              "Name: jobType, dtype: int64"
            ]
          },
          "metadata": {
            "tags": []
          },
          "execution_count": 16
        }
      ]
    },
    {
      "cell_type": "code",
      "metadata": {
        "id": "PxvIJA5agW6A",
        "colab_type": "code",
        "outputId": "5c73cc85-8d7a-49b3-de51-6c6c3b0062d9",
        "colab": {
          "base_uri": "https://localhost:8080/",
          "height": 170
        }
      },
      "source": [
        "merged_data[merged_data.major == 'NONE'].jobType.value_counts()"
      ],
      "execution_count": 0,
      "outputs": [
        {
          "output_type": "execute_result",
          "data": {
            "text/plain": [
              "JANITOR           124971\n",
              "VICE_PRESIDENT     58463\n",
              "SENIOR             58378\n",
              "MANAGER            58288\n",
              "CTO                58160\n",
              "JUNIOR             58127\n",
              "CEO                58024\n",
              "CFO                57942\n",
              "Name: jobType, dtype: int64"
            ]
          },
          "metadata": {
            "tags": []
          },
          "execution_count": 17
        }
      ]
    },
    {
      "cell_type": "markdown",
      "metadata": {
        "id": "QYLHicw1gkmX",
        "colab_type": "text"
      },
      "source": [
        "We can't remove records having major as none because >50% values are missing "
      ]
    },
    {
      "cell_type": "markdown",
      "metadata": {
        "id": "D9homYsrg_fc",
        "colab_type": "text"
      },
      "source": [
        "A function to automate several plots to see correlation of various features with target variable(salaries)"
      ]
    },
    {
      "cell_type": "code",
      "metadata": {
        "id": "C0Dnt2T7hNnq",
        "colab_type": "code",
        "colab": {}
      },
      "source": [
        "def  plots(df, column):\n",
        "    if df[column].dtype.name == 'int64':\n",
        "        sns.jointplot(column,'salary', data = df, kind= 'reg' ).annotate(stats.pearsonr)\n",
        "        plt.show()\n",
        "    else:\n",
        "        \n",
        "        plt.figure(figsize=(7, 6))\n",
        "        sns.boxplot(column, 'salary', data = df)\n",
        "        plt.show()\n",
        "        \n",
        "        plt.figure(figsize=(7, 6))\n",
        "        value_counts = df[column].value_counts()\n",
        "        no = np.arange(len(value_counts))\n",
        "        plt.bar( no, value_counts)\n",
        "        plt.xlabel(column, fontsize=10)\n",
        "        plt.ylabel('value_counts', fontsize=10)\n",
        "        plt.xticks(no, value_counts.index , fontsize=10, rotation=30)\n",
        "        plt.title('Frequency')\n",
        "        plt.show()"
      ],
      "execution_count": 0,
      "outputs": []
    },
    {
      "cell_type": "code",
      "metadata": {
        "id": "GJ2ak3hKha-O",
        "colab_type": "code",
        "outputId": "5b93fd18-9705-45c1-f4e2-157ba4572332",
        "colab": {
          "base_uri": "https://localhost:8080/",
          "height": 807
        }
      },
      "source": [
        "#Calling the function on different variables\n",
        "plots(merged_data,'industry')"
      ],
      "execution_count": 0,
      "outputs": [
        {
          "output_type": "display_data",
          "data": {
            "image/png": "[encoded data removed]",
            "text/plain": [
              "<Figure size 504x432 with 1 Axes>"
            ]
          },
          "metadata": {
            "tags": []
          }
        },
        {
          "output_type": "display_data",
          "data": {
            "image/png": "[encoded data removed]",
            "text/plain": [
              "<Figure size 504x432 with 1 Axes>"
            ]
          },
          "metadata": {
            "tags": []
          }
        }
      ]
    },
    {
      "cell_type": "code",
      "metadata": {
        "id": "dXpjKmabh9Hv",
        "colab_type": "code",
        "outputId": "c6ba7f52-4904-43f4-dae0-f9bd3f603b44",
        "colab": {
          "base_uri": "https://localhost:8080/",
          "height": 815
        }
      },
      "source": [
        "plots(merged_data,'degree')"
      ],
      "execution_count": 0,
      "outputs": [
        {
          "output_type": "display_data",
          "data": {
            "image/png": "[encoded data removed]",
            "text/plain": [
              "<Figure size 504x432 with 1 Axes>"
            ]
          },
          "metadata": {
            "tags": []
          }
        },
        {
          "output_type": "display_data",
          "data": {
            "image/png": "[encoded data removed]",
            "text/plain": [
              "<Figure size 504x432 with 1 Axes>"
            ]
          },
          "metadata": {
            "tags": []
          }
        }
      ]
    },
    {
      "cell_type": "code",
      "metadata": {
        "id": "vsvn5_9Rh_04",
        "colab_type": "code",
        "outputId": "9a283487-c717-4c7c-9dce-16e79e27950a",
        "colab": {
          "base_uri": "https://localhost:8080/",
          "height": 812
        }
      },
      "source": [
        "plots(merged_data,'major')"
      ],
      "execution_count": 0,
      "outputs": [
        {
          "output_type": "display_data",
          "data": {
            "image/png": "[encoded data removed]",
            "text/plain": [
              "<Figure size 504x432 with 1 Axes>"
            ]
          },
          "metadata": {
            "tags": []
          }
        },
        {
          "output_type": "display_data",
          "data": {
            "image/png": "[encoded data removed]",
            "text/plain": [
              "<Figure size 504x432 with 1 Axes>"
            ]
          },
          "metadata": {
            "tags": []
          }
        }
      ]
    },
    {
      "cell_type": "code",
      "metadata": {
        "id": "IZIKTrH2iDiU",
        "colab_type": "code",
        "outputId": "76345688-8006-4352-b770-90dff2eeab10",
        "colab": {
          "base_uri": "https://localhost:8080/",
          "height": 820
        }
      },
      "source": [
        "\n",
        "plots(merged_data,'jobType')"
      ],
      "execution_count": 0,
      "outputs": [
        {
          "output_type": "display_data",
          "data": {
            "image/png": "[encoded data removed]",
            "text/plain": [
              "<Figure size 504x432 with 1 Axes>"
            ]
          },
          "metadata": {
            "tags": []
          }
        },
        {
          "output_type": "display_data",
          "data": {
            "image/png": "[encoded data removed]",
            "text/plain": [
              "<Figure size 504x432 with 1 Axes>"
            ]
          },
          "metadata": {
            "tags": []
          }
        }
      ]
    },
    {
      "cell_type": "code",
      "metadata": {
        "id": "p4YbmhZfiQyH",
        "colab_type": "code",
        "outputId": "bd8bceb6-1b11-46fe-c082-6208d2bbc9f0",
        "colab": {
          "base_uri": "https://localhost:8080/",
          "height": 494
        }
      },
      "source": [
        "plots(merged_data,'yearsExperience')"
      ],
      "execution_count": 0,
      "outputs": [
        {
          "output_type": "stream",
          "text": [
            "/usr/local/lib/python3.6/dist-packages/seaborn/axisgrid.py:1847: UserWarning: JointGrid annotation is deprecated and will be removed in a future release.\n",
            "  warnings.warn(UserWarning(msg))\n"
          ],
          "name": "stderr"
        },
        {
          "output_type": "display_data",
          "data": {
            "image/png": "[encoded data removed]",
            "text/plain": [
              "<Figure size 432x432 with 3 Axes>"
            ]
          },
          "metadata": {
            "tags": []
          }
        }
      ]
    },
    {
      "cell_type": "markdown",
      "metadata": {
        "id": "KcZQ7xbkjj1f",
        "colab_type": "text"
      },
      "source": [
        "It looks like People having different experience range are having different salaries, there are also some people with 0 experience earning very high salaries. There is 0.38 pearson correlation between salary and Years experience."
      ]
    },
    {
      "cell_type": "code",
      "metadata": {
        "id": "r44aXa6piUlj",
        "colab_type": "code",
        "outputId": "3907116c-d55c-467d-97de-20552eafdb32",
        "colab": {
          "base_uri": "https://localhost:8080/",
          "height": 494
        }
      },
      "source": [
        "plots(merged_data,'milesFromMetropolis')"
      ],
      "execution_count": 0,
      "outputs": [
        {
          "output_type": "stream",
          "text": [
            "/usr/local/lib/python3.6/dist-packages/seaborn/axisgrid.py:1847: UserWarning: JointGrid annotation is deprecated and will be removed in a future release.\n",
            "  warnings.warn(UserWarning(msg))\n"
          ],
          "name": "stderr"
        },
        {
          "output_type": "display_data",
          "data": {
            "image/png": "[encoded data removed]",
            "text/plain": [
              "<Figure size 432x432 with 3 Axes>"
            ]
          },
          "metadata": {
            "tags": []
          }
        }
      ]
    },
    {
      "cell_type": "markdown",
      "metadata": {
        "id": "7LlatrXYkzNm",
        "colab_type": "text"
      },
      "source": [
        "There is a negative correlation of -0.3. we can see from the above figure that, as miles from metropolis area increases , salary decreases."
      ]
    },
    {
      "cell_type": "markdown",
      "metadata": {
        "id": "eJtmCKV-orUO",
        "colab_type": "text"
      },
      "source": [
        "We can create a heat map to observe correlations. For categorical data to see correlations i've encoded catogorical features with their respective average salaries"
      ]
    },
    {
      "cell_type": "code",
      "metadata": {
        "id": "HIEi-58woqQk",
        "colab_type": "code",
        "colab": {}
      },
      "source": [
        "def label_encoding(df, column):\n",
        "    #Convert to categorical\n",
        "    df[column] = df[column].astype('category')\n",
        "    #encode the categories using average salary for each category to replace label\n",
        "    categorical_dict = {}\n",
        "    Cat_Labels = df[column].cat.categories.tolist()\n",
        "    for cat in Cat_Labels:\n",
        "        categorical_dict[cat] = df[df[column] == cat]['salary'].mean()   \n",
        "    df[col] = df[col].map(categorical_dict)\n",
        "\n",
        "temp_data = merged_data.copy()\n",
        "    \n",
        "for col in temp_data.columns:\n",
        "    if temp_data[col].dtype.name == \"object\":\n",
        "        label_encoding(temp_data, col)"
      ],
      "execution_count": 0,
      "outputs": []
    },
    {
      "cell_type": "markdown",
      "metadata": {
        "id": "orPsvkFEpGUN",
        "colab_type": "text"
      },
      "source": [
        "Correlations between features and salary can be seen from the heatmap.\n"
      ]
    },
    {
      "cell_type": "code",
      "metadata": {
        "id": "a9S_w8CLpNXp",
        "colab_type": "code",
        "outputId": "f4d7c312-73e9-406f-bcde-1419fe6d7056",
        "colab": {
          "base_uri": "https://localhost:8080/",
          "height": 666
        }
      },
      "source": [
        "fig = plt.figure(figsize=(12, 10))\n",
        "sns.heatmap(temp_data.corr(), cmap='Blues', annot=True)\n",
        "plt.xticks(rotation=45)\n",
        "plt.show()"
      ],
      "execution_count": 0,
      "outputs": [
        {
          "output_type": "display_data",
          "data": {
            "image/png": "[encoded data removed]",
            "text/plain": [
              "<Figure size 864x720 with 2 Axes>"
            ]
          },
          "metadata": {
            "tags": []
          }
        }
      ]
    },
    {
      "cell_type": "markdown",
      "metadata": {
        "id": "Gbi8NbwCxhrN",
        "colab_type": "text"
      },
      "source": [
        "We have to Encode Categorical data for some of our models to work"
      ]
    },
    {
      "cell_type": "markdown",
      "metadata": {
        "id": "Oa7Hfl9Ixu_N",
        "colab_type": "text"
      },
      "source": [
        "Custom lable encoding(Ordinal encoding) for ordinal data"
      ]
    },
    {
      "cell_type": "code",
      "metadata": {
        "id": "GwWfkwSFx0cx",
        "colab_type": "code",
        "colab": {}
      },
      "source": [
        "OE  = OrdinalEncoder(categories= [['JANITOR','JUNIOR','SENIOR','MANAGER','VICE_PRESIDENT','CFO','CTO','CEO']])\n",
        "merged_data['jobType'] = OE.fit_transform(merged_data[['jobType']])\n",
        "\n",
        "OE2  = OrdinalEncoder(categories= [[\"HIGH_SCHOOL\", \"NONE\", \"BACHELORS\", \"MASTERS\",\"DOCTORAL\"]])\n",
        "merged_data['degree'] = OE2.fit_transform(merged_data[['degree']])\n"
      ],
      "execution_count": 0,
      "outputs": []
    },
    {
      "cell_type": "markdown",
      "metadata": {
        "id": "ySF7SMfIyF0w",
        "colab_type": "text"
      },
      "source": [
        "Lable encoding for nominal data"
      ]
    },
    {
      "cell_type": "code",
      "metadata": {
        "id": "YeTgpMekyMqU",
        "colab_type": "code",
        "colab": {}
      },
      "source": [
        "def LableEncode(columns,df):\n",
        "    le = LabelEncoder()\n",
        "    for col in columns:\n",
        "        df[col] = le.fit_transform(df[col])\n",
        "columns = ['companyId','major','industry']\n",
        "LableEncode(columns,merged_data)"
      ],
      "execution_count": 0,
      "outputs": []
    },
    {
      "cell_type": "markdown",
      "metadata": {
        "id": "p11pw0cyySgO",
        "colab_type": "text"
      },
      "source": [
        "I want to create a function to create group statistics variables for our data to gain more signal from data. We groupby our data for all categorical variables and get salary statistics for that group as new variables."
      ]
    },
    {
      "cell_type": "code",
      "metadata": {
        "id": "eSABmDR1yzpa",
        "colab_type": "code",
        "colab": {}
      },
      "source": [
        "#Columns to consider for groupby\n",
        "col = ['companyId', 'jobType', 'degree', 'major', 'industry'] "
      ],
      "execution_count": 0,
      "outputs": []
    },
    {
      "cell_type": "code",
      "metadata": {
        "id": "QAzUXLuzy2t0",
        "colab_type": "code",
        "colab": {}
      },
      "source": [
        "#Function to create group statistics dataframe \n",
        "def group_statistics(df, col, target = 'salary'):\n",
        "     groups = df.groupby(col)\n",
        "     group_stats = pd.DataFrame({'group_mean': groups[target].mean()})\n",
        "     group_stats['group_max'] = groups[target].max()\n",
        "     group_stats['group_min'] = groups[target].min()\n",
        "     group_stats['group_median'] = groups[target].median()\n",
        "     group_stats.reset_index(inplace=True)\n",
        "     return group_stats\n",
        "group_stats = group_statistics(merged_data,col,'salary') "
      ],
      "execution_count": 0,
      "outputs": []
    },
    {
      "cell_type": "markdown",
      "metadata": {
        "id": "jWs0Luc7zD4p",
        "colab_type": "text"
      },
      "source": [
        "Merge 2 data frames by using left join and joining on categorical columns"
      ]
    },
    {
      "cell_type": "code",
      "metadata": {
        "id": "svs6Cziny7Xa",
        "colab_type": "code",
        "colab": {}
      },
      "source": [
        "merged_data = pd.merge(merged_data, group_stats, on = col, how='left')"
      ],
      "execution_count": 0,
      "outputs": []
    },
    {
      "cell_type": "markdown",
      "metadata": {
        "id": "WaCNqJmZzjV3",
        "colab_type": "text"
      },
      "source": [
        "Now our data is ready for predicition!!"
      ]
    },
    {
      "cell_type": "markdown",
      "metadata": {
        "id": "me646oaj0CAs",
        "colab_type": "text"
      },
      "source": [
        "Separating data into target and features."
      ]
    },
    {
      "cell_type": "code",
      "metadata": {
        "id": "CV-m9AWXfznJ",
        "colab_type": "code",
        "colab": {}
      },
      "source": [
        "# Splitting the dataset into the Training set and Test set\n",
        "x = merged_data.drop('salary', axis = 1)\n",
        "y = merged_data['salary']\n"
      ],
      "execution_count": 0,
      "outputs": []
    },
    {
      "cell_type": "markdown",
      "metadata": {
        "id": "-pw4xs6LvzFY",
        "colab_type": "text"
      },
      "source": [
        "Splitting the dataset into Test and train sets"
      ]
    },
    {
      "cell_type": "code",
      "metadata": {
        "id": "PVsG5CLj2w4E",
        "colab_type": "code",
        "colab": {}
      },
      "source": [
        "from sklearn.model_selection import train_test_split\n",
        "X_train, X_test, y_train, y_test = train_test_split(x, y, test_size = 0.25, random_state = 0)\n"
      ],
      "execution_count": 0,
      "outputs": []
    },
    {
      "cell_type": "code",
      "metadata": {
        "id": "G7ckxFR9nb55",
        "colab_type": "code",
        "outputId": "93a33068-69af-4b43-be59-7620c432f3fb",
        "colab": {
          "base_uri": "https://localhost:8080/",
          "height": 34
        }
      },
      "source": [
        "len(X_train.columns)"
      ],
      "execution_count": 0,
      "outputs": [
        {
          "output_type": "execute_result",
          "data": {
            "text/plain": [
              "11"
            ]
          },
          "metadata": {
            "tags": []
          },
          "execution_count": 29
        }
      ]
    },
    {
      "cell_type": "markdown",
      "metadata": {
        "id": "PWqYW1wdvsQG",
        "colab_type": "text"
      },
      "source": [
        "# Random Forest Model"
      ]
    },
    {
      "cell_type": "markdown",
      "metadata": {
        "id": "LA3ViUo1v-0w",
        "colab_type": "text"
      },
      "source": [
        "Fitting base model without tuning"
      ]
    },
    {
      "cell_type": "code",
      "metadata": {
        "id": "UenNVn4c3bT3",
        "colab_type": "code",
        "outputId": "0f864403-9e89-40c4-af62-e5f10a6cfe27",
        "colab": {
          "base_uri": "https://localhost:8080/",
          "height": 34
        }
      },
      "source": [
        "from sklearn.ensemble import RandomForestRegressor\n",
        "regressor = RandomForestRegressor(n_estimators = 100, random_state = 0,n_jobs = -1)\n",
        "regressor.fit(X_train,y_train)\n",
        "\n",
        "X_test = np.array(X_test)\n",
        "\n",
        "# Predicting a new result\n",
        "y_pred = regressor.predict(X_test)\n",
        "\n",
        "#MSE\n",
        "from sklearn.metrics import mean_squared_error\n",
        "mean_squared_error(y_test,y_pred)\n"
      ],
      "execution_count": 0,
      "outputs": [
        {
          "output_type": "execute_result",
          "data": {
            "text/plain": [
              "339.0356263400887"
            ]
          },
          "metadata": {
            "tags": []
          },
          "execution_count": 29
        }
      ]
    },
    {
      "cell_type": "markdown",
      "metadata": {
        "id": "3z2R_30rwCSD",
        "colab_type": "text"
      },
      "source": [
        "**Hand tuning model for better hyper parameters**"
      ]
    },
    {
      "cell_type": "code",
      "metadata": {
        "id": "rps9kk6-7MAA",
        "colab_type": "code",
        "outputId": "e48faf4c-93fc-40ab-cc77-60fe6c579510",
        "colab": {
          "base_uri": "https://localhost:8080/",
          "height": 534
        }
      },
      "source": [
        "#Hyper paarmeter tuning\n",
        "#Manually search for best max_depth\n",
        "# Create empty array to store results\n",
        "results = []\n",
        "# Enumerate through different max_depth values and store results\n",
        "for max_depth in [11,12,13,15,16,17]:\n",
        "    RF = RandomForestRegressor(max_depth = max_depth,n_jobs = -1)\n",
        "    RF.fit(X_train,y_train)\n",
        "    results.append(\n",
        "        {\n",
        "            'max_depth': max_depth,\n",
        "            'train_error': metrics.mean_squared_error(y_train, RF.predict(X_train)),\n",
        "            'test_error': metrics.mean_squared_error(y_test, RF.predict(X_test))\n",
        "        })\n",
        "\n",
        "# Display Results\n",
        "max_depth_lr = pd.DataFrame(results).set_index('max_depth').sort_index()\n",
        "max_depth_lr\n",
        "\n",
        "# Plot Max_Depth Learning Curve\n",
        "max_depth_lr.plot(title=\"Max_Depth Learning Curve\")"
      ],
      "execution_count": 0,
      "outputs": [
        {
          "output_type": "stream",
          "text": [
            "/usr/local/lib/python3.6/dist-packages/sklearn/ensemble/forest.py:245: FutureWarning: The default value of n_estimators will change from 10 in version 0.20 to 100 in 0.22.\n",
            "  \"10 in version 0.20 to 100 in 0.22.\", FutureWarning)\n",
            "/usr/local/lib/python3.6/dist-packages/sklearn/ensemble/forest.py:245: FutureWarning: The default value of n_estimators will change from 10 in version 0.20 to 100 in 0.22.\n",
            "  \"10 in version 0.20 to 100 in 0.22.\", FutureWarning)\n",
            "/usr/local/lib/python3.6/dist-packages/sklearn/ensemble/forest.py:245: FutureWarning: The default value of n_estimators will change from 10 in version 0.20 to 100 in 0.22.\n",
            "  \"10 in version 0.20 to 100 in 0.22.\", FutureWarning)\n",
            "/usr/local/lib/python3.6/dist-packages/sklearn/ensemble/forest.py:245: FutureWarning: The default value of n_estimators will change from 10 in version 0.20 to 100 in 0.22.\n",
            "  \"10 in version 0.20 to 100 in 0.22.\", FutureWarning)\n",
            "/usr/local/lib/python3.6/dist-packages/sklearn/ensemble/forest.py:245: FutureWarning: The default value of n_estimators will change from 10 in version 0.20 to 100 in 0.22.\n",
            "  \"10 in version 0.20 to 100 in 0.22.\", FutureWarning)\n",
            "/usr/local/lib/python3.6/dist-packages/sklearn/ensemble/forest.py:245: FutureWarning: The default value of n_estimators will change from 10 in version 0.20 to 100 in 0.22.\n",
            "  \"10 in version 0.20 to 100 in 0.22.\", FutureWarning)\n"
          ],
          "name": "stderr"
        },
        {
          "output_type": "execute_result",
          "data": {
            "text/plain": [
              "<matplotlib.axes._subplots.AxesSubplot at 0x7f996ab23320>"
            ]
          },
          "metadata": {
            "tags": []
          },
          "execution_count": 32
        },
        {
          "output_type": "display_data",
          "data": {
            "image/png": "[encoded data removed]",
            "text/plain": [
              "<Figure size 432x288 with 1 Axes>"
            ]
          },
          "metadata": {
            "tags": []
          }
        }
      ]
    },
    {
      "cell_type": "code",
      "metadata": {
        "id": "XYxLaxHH8EJ-",
        "colab_type": "code",
        "outputId": "d764d562-adeb-45bc-f3f5-32f98041596d",
        "colab": {
          "base_uri": "https://localhost:8080/",
          "height": 568
        }
      },
      "source": [
        "#Manually search for best max_features\n",
        "results = []\n",
        "for max_features in [5,6,7,8,9,10,11]:\n",
        "    RF = RandomForestRegressor(max_features = max_features, max_depth  =12,n_jobs = -1)\n",
        "    RF.fit(X_train,y_train)\n",
        "    results.append(\n",
        "        {\n",
        "            'max_features': max_features,\n",
        "            'train_error': metrics.mean_squared_error(y_train, RF.predict(X_train)),\n",
        "            'test_error': metrics.mean_squared_error(y_test, RF.predict(X_test))\n",
        "        })\n",
        "\n",
        "max_features_df = pd.DataFrame(results).set_index('max_features').sort_index()\n",
        "max_features_df\n",
        "max_features_df.plot(title=\"max_features Learning Curve\")"
      ],
      "execution_count": 0,
      "outputs": [
        {
          "output_type": "stream",
          "text": [
            "/usr/local/lib/python3.6/dist-packages/sklearn/ensemble/forest.py:245: FutureWarning: The default value of n_estimators will change from 10 in version 0.20 to 100 in 0.22.\n",
            "  \"10 in version 0.20 to 100 in 0.22.\", FutureWarning)\n",
            "/usr/local/lib/python3.6/dist-packages/sklearn/ensemble/forest.py:245: FutureWarning: The default value of n_estimators will change from 10 in version 0.20 to 100 in 0.22.\n",
            "  \"10 in version 0.20 to 100 in 0.22.\", FutureWarning)\n",
            "/usr/local/lib/python3.6/dist-packages/sklearn/ensemble/forest.py:245: FutureWarning: The default value of n_estimators will change from 10 in version 0.20 to 100 in 0.22.\n",
            "  \"10 in version 0.20 to 100 in 0.22.\", FutureWarning)\n",
            "/usr/local/lib/python3.6/dist-packages/sklearn/ensemble/forest.py:245: FutureWarning: The default value of n_estimators will change from 10 in version 0.20 to 100 in 0.22.\n",
            "  \"10 in version 0.20 to 100 in 0.22.\", FutureWarning)\n",
            "/usr/local/lib/python3.6/dist-packages/sklearn/ensemble/forest.py:245: FutureWarning: The default value of n_estimators will change from 10 in version 0.20 to 100 in 0.22.\n",
            "  \"10 in version 0.20 to 100 in 0.22.\", FutureWarning)\n",
            "/usr/local/lib/python3.6/dist-packages/sklearn/ensemble/forest.py:245: FutureWarning: The default value of n_estimators will change from 10 in version 0.20 to 100 in 0.22.\n",
            "  \"10 in version 0.20 to 100 in 0.22.\", FutureWarning)\n",
            "/usr/local/lib/python3.6/dist-packages/sklearn/ensemble/forest.py:245: FutureWarning: The default value of n_estimators will change from 10 in version 0.20 to 100 in 0.22.\n",
            "  \"10 in version 0.20 to 100 in 0.22.\", FutureWarning)\n"
          ],
          "name": "stderr"
        },
        {
          "output_type": "execute_result",
          "data": {
            "text/plain": [
              "<matplotlib.axes._subplots.AxesSubplot at 0x7f36a43fd9e8>"
            ]
          },
          "metadata": {
            "tags": []
          },
          "execution_count": 33
        },
        {
          "output_type": "display_data",
          "data": {
            "image/png": "[encoded data removed]",
            "text/plain": [
              "<Figure size 432x288 with 1 Axes>"
            ]
          },
          "metadata": {
            "tags": []
          }
        }
      ]
    },
    {
      "cell_type": "code",
      "metadata": {
        "id": "7MbSAkphAvwQ",
        "colab_type": "code",
        "outputId": "12de1440-0f00-4c6e-9a4b-cd0b5ed55516",
        "colab": {
          "base_uri": "https://localhost:8080/",
          "height": 313
        }
      },
      "source": [
        "\n",
        "#For Best N_Estimators Parameter\n",
        "\n",
        "results = []\n",
        "for n_estimators in [30,40,50,60,70]:\n",
        "    RF = RandomForestRegressor(n_estimators = n_estimators, max_depth  =12,max_features = 9,n_jobs = -1 )\n",
        "    RF.fit(X_train,y_train)\n",
        "    results.append(\n",
        "        {\n",
        "            'n_estimators': n_estimators,\n",
        "            'train_error': metrics.mean_squared_error(y_train, RF.predict(X_train)),\n",
        "            'test_error': metrics.mean_squared_error(y_test, RF.predict(X_test))\n",
        "        })\n",
        "\n",
        "n_estimators_df = pd.DataFrame(results).set_index('n_estimators').sort_index()\n",
        "n_estimators_df\n",
        "n_estimators_df.plot(title=\"n_estimatorsLearning Curve\")"
      ],
      "execution_count": 0,
      "outputs": [
        {
          "output_type": "execute_result",
          "data": {
            "text/plain": [
              "<matplotlib.axes._subplots.AxesSubplot at 0x7f36a3bcc668>"
            ]
          },
          "metadata": {
            "tags": []
          },
          "execution_count": 34
        },
        {
          "output_type": "display_data",
          "data": {
            "image/png": "[encoded data removed]",
            "text/plain": [
              "<Figure size 432x288 with 1 Axes>"
            ]
          },
          "metadata": {
            "tags": []
          }
        }
      ]
    },
    {
      "cell_type": "code",
      "metadata": {
        "id": "B6ZdZm0HA41M",
        "colab_type": "code",
        "outputId": "ec29ee30-ffc2-45d1-e004-666cb9252dac",
        "colab": {
          "base_uri": "https://localhost:8080/",
          "height": 313
        }
      },
      "source": [
        "\n",
        "#For Best min_samples_split Parameter\n",
        "\n",
        "results = []\n",
        "for min_samples_split in [2,4,5,50]:\n",
        "    RF = RandomForestRegressor(min_samples_split = min_samples_split, n_estimators = 40, max_depth  =12,max_features = 9,n_jobs = -1 )\n",
        "    RF.fit(X_train,y_train)\n",
        "    results.append(\n",
        "        {\n",
        "            'min_samples_split': min_samples_split,\n",
        "            'train_error': metrics.mean_squared_error(y_train, RF.predict(X_train)),\n",
        "            'test_error': metrics.mean_squared_error(y_test, RF.predict(X_test))\n",
        "        })\n",
        "\n",
        "min_samples_split_df = pd.DataFrame(results).set_index('min_samples_split').sort_index()\n",
        "min_samples_split_df\n",
        "min_samples_split_df.plot(title=\"min_samples_split-Learning Curve\")"
      ],
      "execution_count": 0,
      "outputs": [
        {
          "output_type": "execute_result",
          "data": {
            "text/plain": [
              "<matplotlib.axes._subplots.AxesSubplot at 0x7fd2b7bef8d0>"
            ]
          },
          "metadata": {
            "tags": []
          },
          "execution_count": 33
        },
        {
          "output_type": "display_data",
          "data": {
            "image/png": "[encoded data removed]",
            "text/plain": [
              "<Figure size 432x288 with 1 Axes>"
            ]
          },
          "metadata": {
            "tags": []
          }
        }
      ]
    },
    {
      "cell_type": "code",
      "metadata": {
        "id": "ccxIYKb5M-iF",
        "colab_type": "code",
        "outputId": "848f15ca-2b81-4e70-89c6-2e3599cdd4ff",
        "colab": {
          "base_uri": "https://localhost:8080/",
          "height": 313
        }
      },
      "source": [
        "#For Best min_samples_leaf Parameter\n",
        "\n",
        "results = []\n",
        "for min_samples_leaf in [1,5,10,15]:\n",
        "    RF = RandomForestRegressor(min_samples_leaf = min_samples_leaf,n_estimators = 40, max_depth  =12,max_features = 9,min_samples_split=3,n_jobs = -1 )\n",
        "    RF.fit(X_train,y_train)\n",
        "    results.append(\n",
        "        {\n",
        "            'min_samples_leaf': min_samples_leaf,\n",
        "            'train_error': metrics.mean_squared_error(y_train, RF.predict(X_train)),\n",
        "            'test_error': metrics.mean_squared_error(y_test, RF.predict(X_test))\n",
        "        })\n",
        "\n",
        "min_samples_leaf_df = pd.DataFrame(results).set_index('min_samples_leaf').sort_index()\n",
        "min_samples_leaf_df\n",
        "min_samples_leaf_df.plot(title=\"min_samples_leaf-Learning Curve\")"
      ],
      "execution_count": 0,
      "outputs": [
        {
          "output_type": "execute_result",
          "data": {
            "text/plain": [
              "<matplotlib.axes._subplots.AxesSubplot at 0x7fd2b7be4b00>"
            ]
          },
          "metadata": {
            "tags": []
          },
          "execution_count": 34
        },
        {
          "output_type": "display_data",
          "data": {
            "image/png": "[encoded data removed]",
            "text/plain": [
              "<Figure size 432x288 with 1 Axes>"
            ]
          },
          "metadata": {
            "tags": []
          }
        }
      ]
    },
    {
      "cell_type": "markdown",
      "metadata": {
        "id": "R4C4iZg3QCEG",
        "colab_type": "text"
      },
      "source": [
        "Using the results obtained from individual tuning now we will implement Grid search to get even better hyper parameters for Random forest\n"
      ]
    },
    {
      "cell_type": "code",
      "metadata": {
        "id": "TxinR0E-QOW4",
        "colab_type": "code",
        "outputId": "3f44cacc-cf81-452e-ea60-52a4c9b75935",
        "colab": {
          "base_uri": "https://localhost:8080/",
          "height": 229
        }
      },
      "source": [
        "#Performing GridSearchCV\n",
        "from sklearn.model_selection import GridSearchCV\n",
        "model = RandomForestRegressor(n_jobs = -1)\n",
        "# Define Parameters\n",
        "param_grid = {\"max_depth\": [11,12,13],\n",
        "              \"n_estimators\": [20],\n",
        "              \"max_features\": [8,9,10],\n",
        "              \"min_samples_split\": [5],\n",
        "              \"min_samples_leaf\":[5],\n",
        "              \"bootstrap\": [True, False]}\n",
        "gs_cv = GridSearchCV(model, param_grid=param_grid, cv = 3, n_jobs=-1 ).fit(X_train, y_train)\n"
      ],
      "execution_count": 0,
      "outputs": [
        {
          "output_type": "error",
          "ename": "NameError",
          "evalue": "ignored",
          "traceback": [
            "\u001b[0;31m---------------------------------------------------------------------------\u001b[0m",
            "\u001b[0;31mNameError\u001b[0m                                 Traceback (most recent call last)",
            "\u001b[0;32m<ipython-input-1-5d8ee8287093>\u001b[0m in \u001b[0;36m<module>\u001b[0;34m()\u001b[0m\n\u001b[1;32m      1\u001b[0m \u001b[0;32mfrom\u001b[0m \u001b[0msklearn\u001b[0m\u001b[0;34m.\u001b[0m\u001b[0mmodel_selection\u001b[0m \u001b[0;32mimport\u001b[0m \u001b[0mGridSearchCV\u001b[0m\u001b[0;34m\u001b[0m\u001b[0;34m\u001b[0m\u001b[0m\n\u001b[0;32m----> 2\u001b[0;31m \u001b[0mmodel\u001b[0m \u001b[0;34m=\u001b[0m \u001b[0mRandomForestRegressor\u001b[0m\u001b[0;34m(\u001b[0m\u001b[0mn_jobs\u001b[0m \u001b[0;34m=\u001b[0m \u001b[0;34m-\u001b[0m\u001b[0;36m1\u001b[0m\u001b[0;34m)\u001b[0m\u001b[0;34m\u001b[0m\u001b[0;34m\u001b[0m\u001b[0m\n\u001b[0m\u001b[1;32m      3\u001b[0m \u001b[0;31m# Define Parameters\u001b[0m\u001b[0;34m\u001b[0m\u001b[0;34m\u001b[0m\u001b[0;34m\u001b[0m\u001b[0m\n\u001b[1;32m      4\u001b[0m param_grid = {\"max_depth\": [11,12,13],\n\u001b[1;32m      5\u001b[0m               \u001b[0;34m\"n_estimators\"\u001b[0m\u001b[0;34m:\u001b[0m \u001b[0;34m[\u001b[0m\u001b[0;36m20\u001b[0m\u001b[0;34m]\u001b[0m\u001b[0;34m,\u001b[0m\u001b[0;34m\u001b[0m\u001b[0;34m\u001b[0m\u001b[0m\n",
            "\u001b[0;31mNameError\u001b[0m: name 'RandomForestRegressor' is not defined"
          ]
        }
      ]
    },
    {
      "cell_type": "code",
      "metadata": {
        "id": "IiC3yI6ui3pb",
        "colab_type": "code",
        "outputId": "c770b895-72fa-42c4-be0e-42b85a2807af",
        "colab": {
          "base_uri": "https://localhost:8080/",
          "height": 163
        }
      },
      "source": [
        "gs_cv.best_params_ "
      ],
      "execution_count": 0,
      "outputs": [
        {
          "output_type": "error",
          "ename": "NameError",
          "evalue": "ignored",
          "traceback": [
            "\u001b[0;31m---------------------------------------------------------------------------\u001b[0m",
            "\u001b[0;31mNameError\u001b[0m                                 Traceback (most recent call last)",
            "\u001b[0;32m<ipython-input-36-8f4a575149ff>\u001b[0m in \u001b[0;36m<module>\u001b[0;34m()\u001b[0m\n\u001b[0;32m----> 1\u001b[0;31m \u001b[0mgs_cv\u001b[0m\u001b[0;34m.\u001b[0m\u001b[0mbest_params_\u001b[0m\u001b[0;34m\u001b[0m\u001b[0;34m\u001b[0m\u001b[0m\n\u001b[0m",
            "\u001b[0;31mNameError\u001b[0m: name 'gs_cv' is not defined"
          ]
        }
      ]
    },
    {
      "cell_type": "code",
      "metadata": {
        "id": "e3uOo7ZGjPzU",
        "colab_type": "code",
        "outputId": "9e7cecf6-a346-4a44-b55d-9e795d13b58a",
        "colab": {
          "base_uri": "https://localhost:8080/",
          "height": 134
        }
      },
      "source": [
        "best_model = gs_cv.best_estimator_ \n",
        "best_model\n"
      ],
      "execution_count": 0,
      "outputs": [
        {
          "output_type": "execute_result",
          "data": {
            "text/plain": [
              "RandomForestRegressor(bootstrap=True, criterion='mse', max_depth=15,\n",
              "                      max_features=8, max_leaf_nodes=None,\n",
              "                      min_impurity_decrease=0.0, min_impurity_split=None,\n",
              "                      min_samples_leaf=4, min_samples_split=5,\n",
              "                      min_weight_fraction_leaf=0.0, n_estimators=20, n_jobs=-1,\n",
              "                      oob_score=False, random_state=None, verbose=0,\n",
              "                      warm_start=False)"
            ]
          },
          "metadata": {
            "tags": []
          },
          "execution_count": 24
        }
      ]
    },
    {
      "cell_type": "code",
      "metadata": {
        "id": "rD71pycekmeR",
        "colab_type": "code",
        "outputId": "8cf62e4d-71b1-4b0e-996f-dd4ca956607b",
        "colab": {
          "base_uri": "https://localhost:8080/",
          "height": 34
        }
      },
      "source": [
        "best_model = RandomForestRegressor(bootstrap=True, criterion='mse', max_depth=15,\n",
        "                      max_features=8, max_leaf_nodes=None,\n",
        "                      min_impurity_decrease=0.0, min_impurity_split=None,\n",
        "                      min_samples_leaf=4, min_samples_split=5,\n",
        "                      min_weight_fraction_leaf=0.0, n_estimators=100, n_jobs=-1,\n",
        "                      oob_score=False, random_state=None, verbose=0,\n",
        "                      warm_start=False)\n",
        "best_model.fit(X_train,y_train)\n",
        "\n",
        "# Predicting a new result'\n",
        "X_test = np.array(X_test)\n",
        "y_pred = best_model.predict(X_test)\n",
        "\n",
        "#MSE\n",
        "from sklearn.metrics import mean_squared_error\n",
        "mean_squared_error(y_test,y_pred)"
      ],
      "execution_count": 0,
      "outputs": [
        {
          "output_type": "execute_result",
          "data": {
            "text/plain": [
              "366.5226547744976"
            ]
          },
          "metadata": {
            "tags": []
          },
          "execution_count": 25
        }
      ]
    },
    {
      "cell_type": "code",
      "metadata": {
        "id": "k5IjWlnrlscV",
        "colab_type": "code",
        "colab": {}
      },
      "source": [
        ""
      ],
      "execution_count": 0,
      "outputs": []
    },
    {
      "cell_type": "markdown",
      "metadata": {
        "id": "TeBx1Eztlwa5",
        "colab_type": "text"
      },
      "source": [
        "# Neural Networks\n"
      ]
    },
    {
      "cell_type": "markdown",
      "metadata": {
        "id": "ZRsw0I76l65h",
        "colab_type": "text"
      },
      "source": [
        " **Feature Scaling**"
      ]
    },
    {
      "cell_type": "code",
      "metadata": {
        "id": "4AuLCjkKl0MP",
        "colab_type": "code",
        "colab": {}
      },
      "source": [
        "\n",
        "Predictors = (X_train).values\n",
        "target = (y_train).values.reshape(-1, 1)\n",
        "\n",
        "from sklearn.preprocessing import StandardScaler\n",
        "sc_X = StandardScaler()\n",
        "sc_y = StandardScaler()\n",
        "sc_test_x = StandardScaler()\n",
        "sc_test_y = StandardScaler()\n",
        "Predictors = sc_X.fit_transform(Predictors)\n",
        "target = sc_y.fit_transform(target)\n",
        "X_test_scaled = sc_test_x.fit_transform((X_test).values)\n",
        "y_test_scaled = sc_test_y.fit_transform(y_test.values.reshape(-1, 1))\n"
      ],
      "execution_count": 0,
      "outputs": []
    },
    {
      "cell_type": "code",
      "metadata": {
        "id": "Oo7RNtgxmsWQ",
        "colab_type": "code",
        "outputId": "079f1405-c195-4002-b77a-8c242f2ab4d1",
        "colab": {
          "base_uri": "https://localhost:8080/",
          "height": 675
        }
      },
      "source": [
        "early_stopping_monitor = EarlyStopping(patience=3)\n",
        "n_cols = Predictors.shape[1]\n",
        "model = Sequential()\n",
        "model.add(Dense(200,activation='relu',input_shape = (n_cols,)))\n",
        "model.add(Dense(200,activation='relu'))\n",
        "model.add(Dense(200,activation='relu'))\n",
        "model.add(Dense(200,activation='relu'))\n",
        "model.add(Dense(200,activation='relu'))\n",
        "model.add(Dense(200,activation='relu'))\n",
        "model.add(Dense(200,activation='relu'))\n",
        "model.add(Dense(1))\n",
        "model.compile(optimizer='adam',loss='mean_squared_error')\n",
        "model.fit(Predictors,target,validation_split = 0.3, epochs = 30, callbacks = [early_stopping_monitor])\n"
      ],
      "execution_count": 0,
      "outputs": [
        {
          "output_type": "stream",
          "text": [
            "WARNING:tensorflow:From /usr/local/lib/python3.6/dist-packages/keras/backend/tensorflow_backend.py:66: The name tf.get_default_graph is deprecated. Please use tf.compat.v1.get_default_graph instead.\n",
            "\n",
            "WARNING:tensorflow:From /usr/local/lib/python3.6/dist-packages/keras/backend/tensorflow_backend.py:541: The name tf.placeholder is deprecated. Please use tf.compat.v1.placeholder instead.\n",
            "\n",
            "WARNING:tensorflow:From /usr/local/lib/python3.6/dist-packages/keras/backend/tensorflow_backend.py:4432: The name tf.random_uniform is deprecated. Please use tf.random.uniform instead.\n",
            "\n",
            "WARNING:tensorflow:From /usr/local/lib/python3.6/dist-packages/keras/optimizers.py:793: The name tf.train.Optimizer is deprecated. Please use tf.compat.v1.train.Optimizer instead.\n",
            "\n",
            "WARNING:tensorflow:From /usr/local/lib/python3.6/dist-packages/keras/backend/tensorflow_backend.py:1033: The name tf.assign_add is deprecated. Please use tf.compat.v1.assign_add instead.\n",
            "\n",
            "WARNING:tensorflow:From /usr/local/lib/python3.6/dist-packages/keras/backend/tensorflow_backend.py:1020: The name tf.assign is deprecated. Please use tf.compat.v1.assign instead.\n",
            "\n",
            "WARNING:tensorflow:From /usr/local/lib/python3.6/dist-packages/keras/backend/tensorflow_backend.py:3005: The name tf.Session is deprecated. Please use tf.compat.v1.Session instead.\n",
            "\n",
            "Train on 524997 samples, validate on 224999 samples\n",
            "Epoch 1/30\n",
            "WARNING:tensorflow:From /usr/local/lib/python3.6/dist-packages/keras/backend/tensorflow_backend.py:190: The name tf.get_default_session is deprecated. Please use tf.compat.v1.get_default_session instead.\n",
            "\n",
            "WARNING:tensorflow:From /usr/local/lib/python3.6/dist-packages/keras/backend/tensorflow_backend.py:197: The name tf.ConfigProto is deprecated. Please use tf.compat.v1.ConfigProto instead.\n",
            "\n",
            "WARNING:tensorflow:From /usr/local/lib/python3.6/dist-packages/keras/backend/tensorflow_backend.py:207: The name tf.global_variables is deprecated. Please use tf.compat.v1.global_variables instead.\n",
            "\n",
            "WARNING:tensorflow:From /usr/local/lib/python3.6/dist-packages/keras/backend/tensorflow_backend.py:216: The name tf.is_variable_initialized is deprecated. Please use tf.compat.v1.is_variable_initialized instead.\n",
            "\n",
            "WARNING:tensorflow:From /usr/local/lib/python3.6/dist-packages/keras/backend/tensorflow_backend.py:223: The name tf.variables_initializer is deprecated. Please use tf.compat.v1.variables_initializer instead.\n",
            "\n",
            "524997/524997 [==============================] - 125s 238us/step - loss: 0.2503 - val_loss: 0.2440\n",
            "Epoch 2/30\n",
            "524997/524997 [==============================] - 119s 226us/step - loss: 0.2439 - val_loss: 0.2432\n",
            "Epoch 3/30\n",
            "524997/524997 [==============================] - 120s 228us/step - loss: 0.2423 - val_loss: 0.2395\n",
            "Epoch 4/30\n",
            "524997/524997 [==============================] - 119s 226us/step - loss: 0.2415 - val_loss: 0.2437\n",
            "Epoch 5/30\n",
            "524997/524997 [==============================] - 119s 227us/step - loss: 0.2410 - val_loss: 0.2397\n",
            "Epoch 6/30\n",
            "524997/524997 [==============================] - 119s 226us/step - loss: 0.2407 - val_loss: 0.2403\n"
          ],
          "name": "stdout"
        },
        {
          "output_type": "execute_result",
          "data": {
            "text/plain": [
              "<keras.callbacks.History at 0x7f1c89362a58>"
            ]
          },
          "metadata": {
            "tags": []
          },
          "execution_count": 11
        }
      ]
    },
    {
      "cell_type": "code",
      "metadata": {
        "id": "ZtRnPAeUnBMd",
        "colab_type": "code",
        "outputId": "c5512b4f-788d-411f-c21d-86d80e3b1883",
        "colab": {
          "base_uri": "https://localhost:8080/",
          "height": 34
        }
      },
      "source": [
        "predictions_scaled = model.predict(X_test_scaled)\n",
        "predictions = sc_test_y.inverse_transform(predictions_scaled)\n",
        "\n",
        "MSE_Neural_network = mean_squared_error(y_test,predictions)\n",
        "print('MSE_Neural_network',MSE_Neural_network)"
      ],
      "execution_count": 0,
      "outputs": [
        {
          "output_type": "stream",
          "text": [
            "MSE_Neural_network 361.3776551515691\n"
          ],
          "name": "stdout"
        }
      ]
    },
    {
      "cell_type": "markdown",
      "metadata": {
        "id": "J7Dr1vb_tB3W",
        "colab_type": "text"
      },
      "source": [
        "# XGBoost"
      ]
    },
    {
      "cell_type": "markdown",
      "metadata": {
        "id": "DEd6G7w-wm5g",
        "colab_type": "text"
      },
      "source": [
        "** Base model without tuning**"
      ]
    },
    {
      "cell_type": "code",
      "metadata": {
        "id": "agk30NM5tIEW",
        "colab_type": "code",
        "outputId": "183a5dcf-f7ca-4b97-d3b2-84f4de4b4e8d",
        "colab": {
          "base_uri": "https://localhost:8080/",
          "height": 104
        }
      },
      "source": [
        "\n",
        "XGBoost = xgb.XGBRegressor()\n",
        "XGBoost.fit(X_train, y_train)\n",
        "predictions = XGBoost.predict(X_test)\n",
        "XGBoost.get_params()\n",
        "MSE_Neural_network = mean_squared_error(y_test,predictions)\n",
        "print('MSE_Neural_network',MSE_Neural_network)\n"
      ],
      "execution_count": 0,
      "outputs": [
        {
          "output_type": "stream",
          "text": [
            "/usr/local/lib/python3.6/dist-packages/xgboost/core.py:587: FutureWarning: Series.base is deprecated and will be removed in a future version\n",
            "  if getattr(data, 'base', None) is not None and \\\n"
          ],
          "name": "stderr"
        },
        {
          "output_type": "stream",
          "text": [
            "[20:42:34] WARNING: /workspace/src/objective/regression_obj.cu:152: reg:linear is now deprecated in favor of reg:squarederror.\n",
            "MSE_Neural_network 367.6388870568415\n"
          ],
          "name": "stdout"
        }
      ]
    },
    {
      "cell_type": "markdown",
      "metadata": {
        "id": "h555W-uStuBc",
        "colab_type": "text"
      },
      "source": [
        "**Random search of parameters, using 3 fold cross validation, \n",
        "searching across 50 different combinations, and using all available cores**"
      ]
    },
    {
      "cell_type": "code",
      "metadata": {
        "id": "SYtI8_WKt23D",
        "colab_type": "code",
        "colab": {}
      },
      "source": [
        "# Number of trees in XGBoost\n",
        "n_estimators = [50, 100, 150, 200 , 250]\n",
        "# gamma parameter\n",
        "gamma = [0,1,5]\n",
        "# max depth of the tree\n",
        "max_depth = [3,5,10,15,20]\n",
        "# no of variables that are being used in tree\n",
        "colsample_bytree = [0.3,0.5,0.8]\n",
        "# Minimum number of samples required at each leaf node\n",
        "subsample = [0.8,0.9,1]\n",
        "# learning rate for gradient descent\n",
        "learning_rate = [0.01,0.03,0.05,0.1]\n",
        "# Create the random grid\n",
        "random_grid = {'n_estimators': n_estimators,\n",
        "               'gamma': gamma,\n",
        "               'max_depth': max_depth,\n",
        "               'colsample_bytree': colsample_bytree,\n",
        "               'subsample': subsample,\n",
        "               'learning_rate': learning_rate}\n",
        "\n",
        "rf_random = RandomizedSearchCV(estimator = XGBoost, param_distributions = random_grid, n_iter = 50, cv = 3,random_state=42, n_jobs = -1)\n",
        "best_xgboost_model = rf_random.best_estimator_"
      ],
      "execution_count": 0,
      "outputs": []
    },
    {
      "cell_type": "code",
      "metadata": {
        "id": "lVEmxk8NuV_r",
        "colab_type": "code",
        "colab": {}
      },
      "source": [
        "best_xgboost_model = xgb.XGBRegressor(base_score=0.5, booster='gbtree', colsample_bylevel=1,\n",
        "             colsample_bynode=1, colsample_bytree=0.3, gamma=1,\n",
        "             importance_type='gain', learning_rate=0.1, max_delta_step=0,\n",
        "             max_depth=10, min_child_weight=1, missing=None, n_estimators=200,\n",
        "             n_jobs=1, nthread=None, objective='reg:linear', random_state=0,\n",
        "             reg_alpha=0, reg_lambda=1, scale_pos_weight=1, seed=None,\n",
        "             silent=None, subsample=0.9, verbosity=1)"
      ],
      "execution_count": 0,
      "outputs": []
    },
    {
      "cell_type": "code",
      "metadata": {
        "id": "lETl41UUu_a0",
        "colab_type": "code",
        "outputId": "11e947eb-b039-41d5-8254-b4ceb3480987",
        "colab": {
          "base_uri": "https://localhost:8080/",
          "height": 104
        }
      },
      "source": [
        "# Fit the random search model\n",
        "best_xgboost_model.fit(X_train, y_train)\n",
        "\n",
        "# Make predictions with test data\n",
        "predictions = best_xgboost_model.predict(X_test)\n",
        "\n",
        "MSE_XGBoost = mean_squared_error(y_test,predictions)\n",
        "print('MSE_XGBoost',MSE_XGBoost)"
      ],
      "execution_count": 0,
      "outputs": [
        {
          "output_type": "stream",
          "text": [
            "/usr/local/lib/python3.6/dist-packages/xgboost/core.py:587: FutureWarning: Series.base is deprecated and will be removed in a future version\n",
            "  if getattr(data, 'base', None) is not None and \\\n"
          ],
          "name": "stderr"
        },
        {
          "output_type": "stream",
          "text": [
            "[20:50:09] WARNING: /workspace/src/objective/regression_obj.cu:152: reg:linear is now deprecated in favor of reg:squarederror.\n",
            "MSE_XGBoost 357.59193654134424\n"
          ],
          "name": "stdout"
        }
      ]
    },
    {
      "cell_type": "markdown",
      "metadata": {
        "id": "zYSedeLRvH5E",
        "colab_type": "text"
      },
      "source": [
        "**Basic feature importance chart**"
      ]
    },
    {
      "cell_type": "code",
      "metadata": {
        "id": "ajfc7BUzvLhX",
        "colab_type": "code",
        "outputId": "10d4ec81-8eca-49a7-c6e9-4b8b803bb2cf",
        "colab": {
          "base_uri": "https://localhost:8080/",
          "height": 730
        }
      },
      "source": [
        "fig, ax = plt.subplots(figsize=(12,12))\n",
        "xgb.plot_importance(best_xgboost_model, height=0.5, ax=ax)\n",
        "plt.show()"
      ],
      "execution_count": 0,
      "outputs": [
        {
          "output_type": "display_data",
          "data": {
            "image/png": "[encoded data removed]",
            "text/plain": [
              "<Figure size 864x864 with 1 Axes>"
            ]
          },
          "metadata": {
            "tags": []
          }
        }
      ]
    }
  ]
}